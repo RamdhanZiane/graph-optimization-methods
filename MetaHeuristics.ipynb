{
 "cells": [
  {
   "cell_type": "markdown",
   "metadata": {},
   "source": [
    "# Methaheuristics - FSP"
   ]
  },
  {
   "cell_type": "markdown",
   "metadata": {},
   "source": [
    "# Table de matière\n",
    "* [NEH](#NEH)\n",
    "* [Hill Climbing](#hillClimbing)\n",
    "    * [Simple Hill Climbing](#SimpleHillClimbing)\n",
    "    * [Steepest Hill Climbing](#SteepestHillClimbing)\n",
    "    * [Stochastic Hill Climbing](#StochasticHillClimbing)\n",
    "* [Recuit Simulé](#RecuitSimulé)\n",
    "* [Tabu Search](#TabuSearch)\n",
    "* [Random walk](#Randomwalk)\n",
    "* [Test](#Test)\n",
    "    * [Test Hill Climbing](#testhillClimbing)\n",
    "    * [Test Recuit Simulé](#testRecuitSimulé)\n",
    "    * [Test Tabu Search](#testTabuSearch)\n",
    "    * [Test Random walk](#testRandomwalk)"
   ]
  },
  {
   "cell_type": "code",
   "execution_count": 6,
   "metadata": {
    "id": "JCBV7hhByCAN"
   },
   "outputs": [],
   "source": [
    "# Importer les bibliothèques\n",
    "import numpy as np\n",
    "import pandas as pd\n",
    "import matplotlib.pyplot as plt\n",
    "import math\n",
    "import random\n",
    "from itertools import permutations\n",
    "import json\n",
    "import sys\n",
    "from functools import lru_cache\n",
    "import time\n",
    "from collections import deque"
   ]
  },
  {
   "cell_type": "markdown",
   "metadata": {},
   "source": [
    "# Fonction utils"
   ]
  },
  {
   "cell_type": "code",
   "execution_count": 7,
   "metadata": {},
   "outputs": [],
   "source": [
    "# Lire le benchmark\n",
    "def load_taillard(path='benchmarks/taillard.txt'):\n",
    "    with open(path) as f:\n",
    "        n = 10 # int(f.readline())\n",
    "        tests = []\n",
    "        tests_json = []\n",
    "        for _ in range(n):\n",
    "            test = {}\n",
    "            next(f)\n",
    "            nb_jobs, nb_machines, seed, ub, lb = [int(i) for i in f.readline().strip().split(\" \") if i != \"\"]\n",
    "            test[\"nb_jobs\"] = nb_jobs\n",
    "            test[\"nb_machines\"] = nb_machines\n",
    "            test[\"seed\"] = seed\n",
    "            test[\"upper_bound\"] = ub\n",
    "            test[\"lower_bound\"] = lb\n",
    "            next(f)\n",
    "            jobs = []\n",
    "            for _ in range(nb_machines):\n",
    "                process_times = [int(i) for i in f.readline().strip().split(\" \") if i != \"\"]\n",
    "                jobs.append(process_times)\n",
    "            test[\"jobs\"] = list(zip(*jobs))\n",
    "            tests_json.append(test)\n",
    "            tests.append((nb_jobs, nb_machines, seed, ub, lb, list(zip(*jobs))))\n",
    "    with open('benchmarks/taillard.json', 'w') as f:\n",
    "        json.dump(tests_json, f)\n",
    "    return tests_json"
   ]
  },
  {
   "cell_type": "code",
   "execution_count": 8,
   "metadata": {},
   "outputs": [],
   "source": [
    "# Fonction qui retourne le cout d'une solution\n",
    "def evaluate_sequence(sequence, processing_times):\n",
    "    _, num_machines = processing_times.shape\n",
    "    num_jobs = len(sequence)\n",
    "    completion_times = np.zeros((num_jobs, num_machines))\n",
    "    \n",
    "    # Calculate the completion times for the first machine\n",
    "    completion_times[0][0] = processing_times[sequence[0]][0]\n",
    "    for i in range(1, num_jobs):\n",
    "        completion_times[i][0] = completion_times[i-1][0] + processing_times[sequence[i]][0]\n",
    "    \n",
    "    # Calculate the completion times for the remaining machines\n",
    "    for j in range(1, num_machines):\n",
    "        completion_times[0][j] = completion_times[0][j-1] + processing_times[sequence[0]][j]\n",
    "        for i in range(1, num_jobs):\n",
    "            completion_times[i][j] = max(completion_times[i-1][j], completion_times[i][j-1]) + processing_times[sequence[i]][j]\n",
    "    \n",
    "    # Return the total completion time, which is the completion time of the last job in the last machine\n",
    "    return completion_times[num_jobs-1][num_machines-1]"
   ]
  },
  {
   "cell_type": "code",
   "execution_count": 9,
   "metadata": {},
   "outputs": [],
   "source": [
    "def compute_completion_time(sequence, processing_times):\n",
    "    # Récupération du nombre de tâches et de machines\n",
    "    m = processing_times.shape[1]\n",
    "    n  = len(sequence)\n",
    "    # Initialisation de la matrice des temps de complétion\n",
    "    completion_times = np.zeros((n, m))\n",
    "\n",
    "    # Parcours de la séquence de tâches\n",
    "    for i in range(n):\n",
    "        for j in range(m):\n",
    "            if i == 0 and j == 0:\n",
    "                # Pour la première tâche et la première machine, le temps de complétion est le temps de traitement\n",
    "                completion_times[i][j] = processing_times[sequence[i]][j]\n",
    "            elif i == 0:\n",
    "                # Pour la première tâche sur les machines suivantes, ajoute le temps de traitement au temps de la machine précédente\n",
    "                completion_times[i][j] = completion_times[i][j - 1] + processing_times[sequence[i]][j]\n",
    "            elif j == 0:\n",
    "                # Pour les tâches suivantes sur la première machine, ajoute le temps de traitement au temps de la tâche précédente\n",
    "                completion_times[i][j] = completion_times[i - 1][j] + processing_times[sequence[i]][j]\n",
    "            else:\n",
    "                # Pour les tâches suivantes sur les machines suivantes, le temps de complétion est le maximum du temps précédent sur la même machine et du temps précédent sur la même tâche sur la machine actuelle, plus le temps de traitement\n",
    "                completion_times[i][j] = max(completion_times[i - 1][j], completion_times[i][j - 1]) + processing_times[sequence[i]][j]\n",
    "\n",
    "    # Retourne le temps de complétion de la dernière tâche sur la dernière machine\n",
    "    return completion_times[-1][-1]"
   ]
  },
  {
   "cell_type": "code",
   "execution_count": 10,
   "metadata": {},
   "outputs": [],
   "source": [
    "def generer_donnees_aleatoires(rows, cols, low=10, high=50):\n",
    "    donnees_aleatoires = np.random.randint(low, high, size=(rows, cols))\n",
    "    return donnees_aleatoires"
   ]
  },
  {
   "cell_type": "code",
   "execution_count": 11,
   "metadata": {},
   "outputs": [],
   "source": [
    "def plot_gantt(durations, sol_indices):\n",
    "    fig, ax = plt.subplots()\n",
    "    # Setting up y-axis ticks\n",
    "    ax.set_yticks(range(len(durations[1])))\n",
    "    ax.set_yticklabels([\"M\" + str(i) for i in range(len(durations[1]))])\n",
    "\n",
    "    # # Generate colors for jobs\n",
    "    num_jobs, num_machines = durations.shape\n",
    "\n",
    "    ax.set_xlabel('Time')\n",
    "    ax.set_ylabel('Machines')\n",
    "    ax.set_title('Flowshop Scheduling Gantt Diagram')\n",
    "    colors = plt.cm.tab10(np.linspace(0, 1, num_jobs))\n",
    "\n",
    "    job_start_times = [0] * len(durations)\n",
    "    machine_start_times = [0] * len(durations[0])\n",
    "\n",
    "\n",
    "    for i in sol_indices:\n",
    "        for j in range(len(durations[i])):\n",
    "            start_time = max(job_start_times[i], machine_start_times[j])\n",
    "            duration = durations[i][j]\n",
    "            color = colors[i]\n",
    "            ax.barh(j, duration, left=start_time, color=color, align='center')\n",
    "            ax.text(start_time + duration / 2, j, str(i), ha='center', va='center')  # Adding label for j\n",
    "            job_start_times[i] = start_time + duration  # Update starting time for the job\n",
    "            machine_start_times[j] = start_time + duration\n",
    "\n",
    "    plt.show()"
   ]
  },
  {
   "cell_type": "code",
   "execution_count": 84,
   "metadata": {},
   "outputs": [],
   "source": [
    "def plot_test(results_df, title):\n",
    "    # Extract file names, upper bounds, and makespans\n",
    "    file_names = results_df[\"File Name\"]\n",
    "    upper_bounds = results_df[\"Upper Bound\"].astype(int)\n",
    "    makespans = results_df[\"Makespan\"].astype(int)\n",
    "\n",
    "    # Generate positions for the bars\n",
    "    positions = np.arange(len(file_names))\n",
    "\n",
    "    # Plotting\n",
    "    plt.figure(figsize=(10, 6))\n",
    "\n",
    "    # Plot makespans as bars\n",
    "    plt.bar(positions, makespans, color=(0.7, 0.85, 1.0), label='Makespan')\n",
    "\n",
    "    # Plot upper bounds as red lines\n",
    "    for i, (pos, upper_bound) in enumerate(zip(positions, upper_bounds)):\n",
    "        if i == 0:\n",
    "            plt.plot([pos-0.4, pos+0.4], [upper_bound, upper_bound], color='r', linestyle='--', label='Upper Bound')\n",
    "        else:\n",
    "            plt.plot([pos-0.4, pos+0.4], [upper_bound, upper_bound], color='r', linestyle='--')\n",
    "\n",
    "        plt.text(pos, upper_bound-50, str(upper_bound), ha='center', va='top', color='r')\n",
    "        plt.text(pos, makespans[i], str(makespans[i]), ha='center', va='bottom', color='k')\n",
    "\n",
    "    # Add labels and title\n",
    "    plt.xlabel('Instance')\n",
    "    plt.ylabel('Makespan')\n",
    "    plt.title(title)\n",
    "    plt.xticks(positions, file_names)\n",
    "    plt.legend()\n",
    "\n",
    "    # Show plot\n",
    "    plt.show()"
   ]
  },
  {
   "cell_type": "markdown",
   "metadata": {},
   "source": [
    "# Les meta heuristiques"
   ]
  },
  {
   "cell_type": "markdown",
   "metadata": {},
   "source": [
    "## NEH <a class=\"anchor\" id=\"NEH\"></a>"
   ]
  },
  {
   "cell_type": "code",
   "execution_count": 13,
   "metadata": {},
   "outputs": [],
   "source": [
    "def Sorting_in_Descending_ordre(processing_times):\n",
    "    #  Calculate the total completion time for each job\n",
    "    total_completion_time = processing_times.sum(axis=1)\n",
    "\n",
    "    #  Sort the jobs based on their total completion times in descending order\n",
    "    sorted_job_indices = np.argsort(total_completion_time)[::-1]  # Sorting in descending order\n",
    "\n",
    "    # Convert the sorted job indices to a list\n",
    "    sorted_job_indices_list = sorted_job_indices.tolist()\n",
    "\n",
    "    #  Return the sorted job indices\n",
    "    return sorted_job_indices_list"
   ]
  },
  {
   "cell_type": "code",
   "execution_count": 14,
   "metadata": {},
   "outputs": [],
   "source": [
    "def insertion(sequence, position, value):\n",
    "    #  Create a copy of the original sequence\n",
    "    new_seq = sequence[:]\n",
    "\n",
    "    #  Insert the value at the specified position in the copied sequence\n",
    "    new_seq.insert(position, value)\n",
    "\n",
    "    #  Return the modified sequence\n",
    "    return new_seq"
   ]
  },
  {
   "cell_type": "code",
   "execution_count": 15,
   "metadata": {},
   "outputs": [],
   "source": [
    "def neh_algorithm(processing_times):\n",
    "    ordered_sequence = Sorting_in_Descending_ordre(processing_times)\n",
    "    # Define the initial order\n",
    "    J1, J2 = ordered_sequence[:2]\n",
    "    sequence = [J1, J2] if compute_completion_time([J1, J2], processing_times) < compute_completion_time([J2, J1], processing_times) else [J2, J1]\n",
    "    del ordered_sequence[:2]\n",
    "    # Add remaining jobs\n",
    "    for job in ordered_sequence:\n",
    "        Cmax = float('inf')\n",
    "        best_sequence = []\n",
    "        for i in range(len(sequence)+1):\n",
    "            new_sequence = insertion(sequence, i, job)\n",
    "            Cmax_eval = compute_completion_time(new_sequence, processing_times)\n",
    "            if Cmax_eval < Cmax:\n",
    "                Cmax = Cmax_eval\n",
    "                best_sequence = new_sequence\n",
    "        sequence = best_sequence\n",
    "    return sequence, Cmax"
   ]
  },
  {
   "cell_type": "code",
   "execution_count": 16,
   "metadata": {},
   "outputs": [],
   "source": [
    "processing_times = np.array([[54, 83, 15, 71, 77, 36, 53, 38, 27, 87, 76, 91, 14, 29, 12, 77, 32, 87, 68, 94],\n",
    "                    [79, 3, 11, 99, 56, 70, 99, 60, 5, 56, 3, 61, 73, 75, 47, 14, 21, 86, 5, 77],\n",
    "                    [16, 89, 49, 15, 89, 45, 60, 23, 57, 64, 7, 1, 63, 41, 63, 47, 26, 75, 77, 40],\n",
    "                    [66, 58, 31, 68, 78, 91, 13, 59, 49, 85, 85, 9, 39, 41, 56, 40, 54, 77, 51, 31],\n",
    "                    [58, 56, 20, 85, 53, 35, 53, 41, 69, 13, 86, 72, 8, 49, 47, 87, 58, 18, 68, 28]] ).T"
   ]
  },
  {
   "cell_type": "code",
   "execution_count": 17,
   "metadata": {},
   "outputs": [
    {
     "name": "stdout",
     "output_type": "stream",
     "text": [
      "Solution : [2, 16, 8, 7, 14, 13, 10, 15, 12, 18, 5, 3, 4, 17, 0, 1, 9, 6, 19, 11]\n",
      "time  1286.0\n"
     ]
    },
    {
     "data": {
      "image/png": "[encoded data removed]",
      "text/plain": [
       "<Figure size 640x480 with 1 Axes>"
      ]
     },
     "metadata": {},
     "output_type": "display_data"
    }
   ],
   "source": [
    "sol, Cmax = neh_algorithm(processing_times)\n",
    "print(\"Solution :\" ,  sol)\n",
    "print(\"time \" , Cmax)\n",
    "plot_gantt(processing_times, sol)"
   ]
  },
  {
   "cell_type": "markdown",
   "metadata": {},
   "source": [
    "## Hill Climbing <a class=\"anchor\" id=\"hillClimbing\"></a>"
   ]
  },
  {
   "cell_type": "code",
   "execution_count": 18,
   "metadata": {},
   "outputs": [],
   "source": [
    "def best_first_swap(solution, processing_times):\n",
    "    # Get the number of jobs in the solution\n",
    "    num_jobs = len(solution)\n",
    "    # Initialize variables to store the best neighbor solution and its makespan\n",
    "    best_cmax = compute_completion_time(solution, processing_times)\n",
    "    best_neighbor = solution.copy()\n",
    "\n",
    "    # Iterate through all pairs of jobs in the sequence\n",
    "    for job1 in range(num_jobs):\n",
    "        for job2 in range(job1 + 1, num_jobs):\n",
    "            # Generate a neighbor solution by swapping the positions of two jobs\n",
    "            neighbor = solution.copy()\n",
    "            neighbor = swap(neighbor, job1, job2)\n",
    "\n",
    "            # Evaluate the makespan of the neighbor solution\n",
    "            cmax = compute_completion_time(neighbor, processing_times)\n",
    "\n",
    "            # Check if the neighbor solution improves upon the current best solution\n",
    "            if cmax < best_cmax:\n",
    "                # Update the best neighbor solution and its makespan\n",
    "                best_neighbor = neighbor\n",
    "                best_cmax = cmax\n",
    "\n",
    "                # Return the first improved solution found\n",
    "                return best_neighbor, best_cmax\n",
    "\n",
    "    # If no improved solution is found, return the original solution and its makespan\n",
    "    return best_neighbor, best_cmax"
   ]
  },
  {
   "cell_type": "code",
   "execution_count": 19,
   "metadata": {},
   "outputs": [],
   "source": [
    "def swap(solution, i, k):\n",
    "    # Swap the positions of the two jobs in the solution\n",
    "    temp = solution[k]\n",
    "    solution[k] = solution[i]\n",
    "    solution[i] = temp\n",
    "\n",
    "    # Return the solution with the swapped positions\n",
    "    return solution"
   ]
  },
  {
   "cell_type": "markdown",
   "metadata": {},
   "source": [
    "### Simple Hill Climbing <a class=\"anchor\" id=\"SimpleHillClimbing\"></a>"
   ]
  },
  {
   "cell_type": "code",
   "execution_count": 20,
   "metadata": {},
   "outputs": [],
   "source": [
    "def simple_hill_climbing(solution, processing_times, nb_iter=100):\n",
    "    \"\"\"\n",
    "    This function performs the simple hill climbing algorithm to improve a given solution\n",
    "    to the flow shop scheduling problem.\n",
    "\n",
    "    Args:\n",
    "        solution (list): Current sequence of jobs on the machines.\n",
    "        processing_times (dict): Dictionary containing processing times of jobs on each machine.\n",
    "        nb_iter (int): Maximum number of iterations to perform (default is 10000).\n",
    "\n",
    "    Returns:\n",
    "        tuple: A tuple containing the improved solution, its corresponding makespan, and the number of iterations performed.\n",
    "    \"\"\"\n",
    "\n",
    "    # Initialize variables\n",
    "    x = solution  # Current solution\n",
    "    cmax = compute_completion_time(solution, processing_times)  # Makespan of the current solution\n",
    "    iterations = 0  # Counter for the number of iterations performed\n",
    "\n",
    "    # Iterate until the maximum number of iterations is reached\n",
    "    while iterations < nb_iter:\n",
    "        # Find the best neighbor solution and its makespan\n",
    "        best_neighbor, best_cmax = best_first_swap(x, processing_times)\n",
    "\n",
    "        # If no improvement is found, return the current solution\n",
    "        if best_cmax == cmax:\n",
    "            return best_neighbor, best_cmax, iterations\n",
    "\n",
    "        # Update the current solution and its makespan\n",
    "        x = best_neighbor\n",
    "        cmax = best_cmax\n",
    "\n",
    "        # Increment the iteration counter\n",
    "        iterations += 1\n",
    "\n",
    "    # Return the best solution found, its makespan, and the number of iterations performed\n",
    "    return x, cmax, iterations"
   ]
  },
  {
   "cell_type": "code",
   "execution_count": 21,
   "metadata": {},
   "outputs": [],
   "source": [
    "def best_swap(solution, processing_times):\n",
    "    \"\"\"\n",
    "    Find the best neighboring solution of the given solution.\n",
    "\n",
    "    Args:\n",
    "        solution (list): The current sequence of jobs on the machines.\n",
    "        processing_times (dict): Dictionary containing processing times of jobs on each machine.\n",
    "\n",
    "    Returns:\n",
    "        tuple: A tuple containing the best neighbor solution and its corresponding makespan.\n",
    "    \"\"\"\n",
    "    # Initialize variables\n",
    "    num_jobs = len(solution)  # Number of jobs in the solution\n",
    "    best_cmax = np.Infinity  # Initial best makespan set to infinity\n",
    "\n",
    "    # Iterate through all possible pairs of jobs in the solution\n",
    "    for k1 in range(num_jobs):\n",
    "        for k2 in range(k1 + 1, num_jobs):\n",
    "            # Generate a neighbor solution by swapping the positions of two jobs\n",
    "            neighbor = solution.copy()\n",
    "            neighbor = swap(neighbor, k1, k2)\n",
    "\n",
    "            # Evaluate the makespan of the neighbor solution\n",
    "            cmax = compute_completion_time(neighbor, processing_times)\n",
    "\n",
    "            # Update the best neighbor solution if the makespan of the current neighbor is better\n",
    "            if cmax < best_cmax:\n",
    "                best_neighbor = neighbor\n",
    "                best_cmax = cmax\n",
    "\n",
    "    # Return the best neighbor solution and its corresponding makespan\n",
    "    return best_neighbor, best_cmax"
   ]
  },
  {
   "cell_type": "code",
   "execution_count": 22,
   "metadata": {},
   "outputs": [],
   "source": [
    "def best_swaps(solution, processing_times):\n",
    "    \"\"\"\n",
    "    Generate a list of all neighboring solutions that are better than the given solution.\n",
    "\n",
    "    Args:\n",
    "        solution (list): The current sequence of jobs on the machines.\n",
    "        processing_times (dict): Dictionary containing processing times of jobs on each machine.\n",
    "\n",
    "    Returns:\n",
    "        list: A list of tuples, each containing the makespan and corresponding solution for all better neighboring solutions.\n",
    "    \"\"\"\n",
    "    # Initialize variables\n",
    "    num_jobs = len(solution)  # Number of jobs in the solution\n",
    "    cmax = compute_completion_time(solution, processing_times)  # Makespan of the current solution\n",
    "    bests = []  # List to store all better neighboring solutions\n",
    "\n",
    "    # Iterate through all possible pairs of jobs in the solution\n",
    "    for job1 in range(num_jobs):\n",
    "        for job2 in range(job1 + 1, num_jobs):\n",
    "            # Generate a neighbor solution by swapping the positions of two jobs\n",
    "            neighbor = solution.copy()\n",
    "            swap(neighbor, job1, job2)\n",
    "\n",
    "            # Evaluate the makespan of the neighbor solution\n",
    "            neighbor_cmax = compute_completion_time(neighbor, processing_times)\n",
    "\n",
    "            # If the neighbor solution has a better makespan than the current solution, add it to the list\n",
    "            if neighbor_cmax < cmax:\n",
    "                bests.append((neighbor_cmax, neighbor))\n",
    "\n",
    "    # Sort the list of better neighboring solutions based on their makespan\n",
    "    bests.sort(key=lambda x: x[0])\n",
    "\n",
    "    # Return the list of better neighboring solutions\n",
    "    return bests"
   ]
  },
  {
   "cell_type": "markdown",
   "metadata": {},
   "source": [
    "### Steepest Ascent Hill Climbing  <a class=\"anchor\" id=\"SteepestHillClimbing\"></a>"
   ]
  },
  {
   "cell_type": "code",
   "execution_count": 23,
   "metadata": {},
   "outputs": [],
   "source": [
    "def steepest_ascent_hill_climbing(solution, processing_times, nb_iter=1000):\n",
    "    \"\"\"\n",
    "    Steepest Ascent Hill Climbing algorithm for flow shop scheduling problem.\n",
    "\n",
    "    Args:\n",
    "        solution (list): Current sequence of jobs on the machines.\n",
    "        processing_times (dict): Dictionary containing processing times of jobs on each machine.\n",
    "        nb_iter (int): Maximum number of iterations to perform (default is 1000).\n",
    "\n",
    "    Returns:\n",
    "        tuple: A tuple containing the improved solution, its corresponding makespan, and the number of iterations performed.\n",
    "    \"\"\"\n",
    "\n",
    "    # Initialize variables\n",
    "    x = solution  # Current solution\n",
    "    cmax = compute_completion_time(solution, processing_times)  # Makespan of the current solution\n",
    "    iterations = 0  # Counter for the number of iterations performed\n",
    "\n",
    "    # Iterate until the maximum number of iterations is reached\n",
    "    while iterations < nb_iter:\n",
    "        # Find the best neighbor solution and its makespan\n",
    "        best_neighbor, best_cmax = best_swap(solution, processing_times)  # Select the best neighbor solution\n",
    "\n",
    "        # If the makespan of the best neighbor is worse than the current makespan, stop and return the current solution\n",
    "        if best_cmax > cmax:\n",
    "            return x, cmax  , iterations # If no better neighbor, return the current solution and its makespan\n",
    "\n",
    "        # Update the current solution and its makespan\n",
    "        else:\n",
    "            x = best_neighbor\n",
    "            cmax = best_cmax\n",
    "            iterations += 1  # Move to the best neighbor solution and increment iteration count\n",
    "\n",
    "    # Return the best solution found, its makespan, and the number of iterations performed\n",
    "    return best_neighbor, best_cmax, iterations  # Return the best solution found after reaching maximum iterations"
   ]
  },
  {
   "cell_type": "markdown",
   "metadata": {},
   "source": [
    "### Stochastic Hill Climbing <a class=\"anchor\" id=\"StochasticHillClimbing\"></a>"
   ]
  },
  {
   "cell_type": "code",
   "execution_count": 24,
   "metadata": {},
   "outputs": [],
   "source": [
    "def stochastic_hill_climbing(solution, processing_times, nb_iter=1000):\n",
    "  \"\"\"\n",
    "  Stochastic Hill Climbing algorithm for flow shop scheduling problem.\n",
    "\n",
    "  Args:\n",
    "      solution (list): Current sequence of jobs on the machines.\n",
    "      processing_times (dict): Dictionary containing processing times of jobs on each machine.\n",
    "      nb_iter (int): Maximum number of iterations to perform (default is 1000).\n",
    "\n",
    "  Returns:\n",
    "      tuple: A tuple containing the improved solution, its corresponding makespan, and the number of iterations performed.\n",
    "  \"\"\"\n",
    "\n",
    "  # Initialize variables\n",
    "  x = solution  # Current solution\n",
    "  cmax = compute_completion_time(solution, processing_times)  # Makespan of the current solution\n",
    "  iterations = 0  # Counter for the number of iterations performed\n",
    "\n",
    "  # Iterate until the maximum number of iterations is reached\n",
    "  while iterations < nb_iter:\n",
    "    # Get the best neighboring solutions\n",
    "    best_neighbours = best_swaps(x, processing_times)\n",
    "\n",
    "    # If there are no better neighboring solutions, return the current solution\n",
    "    if len(best_neighbours) == 0:\n",
    "      return x, cmax, iterations\n",
    "\n",
    "    # Select a random best neighbor\n",
    "    i = random.randint(0, len(best_neighbours) - 1)\n",
    "    best_cmax, best_neighbor = best_neighbours[i]\n",
    "\n",
    "    # If the makespan of the best neighbor is worse than the current makespan, return the current solution\n",
    "    if best_cmax > cmax:\n",
    "      return x, cmax, iterations\n",
    "\n",
    "    # Update the current solution and its makespan\n",
    "    x = best_neighbor\n",
    "    cmax = best_cmax\n",
    "    iterations += 1  # Increment iteration counter\n",
    "\n",
    "  # Return the best solution found, its makespan, and the number of iterations performed\n",
    "  return best_neighbor, best_cmax, iterations  # Return the best solution found after reaching maximum iterations"
   ]
  },
  {
   "cell_type": "code",
   "execution_count": 25,
   "metadata": {},
   "outputs": [
    {
     "name": "stdout",
     "output_type": "stream",
     "text": [
      "Initial solution: [2, 16, 8, 7, 14, 13, 10, 15, 12, 18, 5, 3, 4, 17, 0, 1, 9, 6, 19, 11]\n",
      "Makespan: 1286.0\n",
      "\n",
      "Generated solution: [2, 16, 8, 7, 14, 13, 10, 15, 12, 18, 5, 3, 4, 17, 0, 1, 9, 6, 19, 11]\n",
      "Makespan: 1286.0\n",
      "Number of iterations: 0\n",
      "\n",
      "Elapsed time: 0.02207207679748535 seconds\n"
     ]
    }
   ],
   "source": [
    "initial_solution , Cmax = neh_algorithm(processing_times)\n",
    "print(\"Initial solution:\", initial_solution)\n",
    "print(\"Makespan:\", Cmax)\n",
    "\n",
    "start_time = time.time()\n",
    "best_solution, best_cmax, nb_iterations = stochastic_hill_climbing(initial_solution, processing_times)\n",
    "elapsed_time = time.time() - start_time\n",
    "\n",
    "print(\"\\nGenerated solution:\", best_solution)\n",
    "print(\"Makespan:\", best_cmax)\n",
    "print(\"Number of iterations:\", nb_iterations)\n",
    "print(\"\\nElapsed time:\", elapsed_time, \"seconds\")"
   ]
  },
  {
   "cell_type": "markdown",
   "metadata": {},
   "source": [
    "## Recuit simulé <a class=\"anchor\" id=\"RecuitSimulé\"></a>"
   ]
  },
  {
   "cell_type": "code",
   "execution_count": 26,
   "metadata": {},
   "outputs": [],
   "source": [
    "class Flowshop(object):\n",
    "    \"\"\"\n",
    "    A class for initiaizing & solving a Permutation Flowshop Scheduling Problem\n",
    "    \"\"\"\n",
    "\n",
    "    def __init__(self, data=None, nb_machines=2, nb_jobs=6):\n",
    "        \"\"\"[summary]\n",
    "\n",
    "        Keyword Arguments:\n",
    "            data {list} -- A 2D array of processing time on machines (default: {None})\n",
    "            nb_machines {int} -- Number of machines for the given problem must be the number of rows of first param (default: {2})\n",
    "            nb_jobs {[type]} -- Number of jobs for the given problem, must be equal to the number of columns of the data param. (default: {6})\n",
    "        \"\"\"\n",
    "\n",
    "        self.nb_machines = nb_machines\n",
    "        self.nb_jobs = nb_jobs\n",
    "        if data is not None:\n",
    "            self.data = data\n",
    "        else:\n",
    "            self.data = RandomFlowshop(\n",
    "                self.nb_machines, self.nb_jobs).get_data()\n",
    "\n",
    "    @lru_cache(maxsize=128)\n",
    "    def brute_force_exact(self):\n",
    "        default_timer = None\n",
    "        if sys.platform == \"win32\":\n",
    "            default_timer = time.clock\n",
    "        else:\n",
    "            default_timer = time.time\n",
    "        s = default_timer.__call__()\n",
    "\n",
    "        jobs_perm = permutations(range(self.nb_jobs))\n",
    "        seq = min(jobs_perm, key=lambda x: self._get_makespan(x, self.data))\n",
    "\n",
    "        e = default_timer.__call__()\n",
    "\n",
    "        schedules = np.zeros((self.nb_machines, self.nb_jobs), dtype=dict)\n",
    "        # schedule first job alone first\n",
    "        task = {\"name\": \"job_{}\".format(\n",
    "            seq[0]+1), \"start_time\": 0, \"end_time\": self.data[0][seq[0]]}\n",
    "        schedules[0][0] = task\n",
    "        for m_id in range(1, self.nb_machines):\n",
    "            start_t = schedules[m_id-1][0][\"end_time\"]\n",
    "            end_t = start_t + self.data[m_id][0]\n",
    "            task = {\"name\": \"job_{}\".format(\n",
    "                seq[0]+1), \"start_time\": start_t, \"end_time\": end_t}\n",
    "            schedules[m_id][0] = task\n",
    "\n",
    "        for index, job_id in enumerate(seq[1::]):\n",
    "            start_t = schedules[0][index][\"end_time\"]\n",
    "            end_t = start_t + self.data[0][job_id]\n",
    "            task = {\"name\": \"job_{}\".format(\n",
    "                job_id+1), \"start_time\": start_t, \"end_time\": end_t}\n",
    "            schedules[0][index+1] = task\n",
    "            for m_id in range(1, self.nb_machines):\n",
    "                start_t = max(schedules[m_id][index][\"end_time\"],\n",
    "                              schedules[m_id-1][index+1][\"end_time\"])\n",
    "                end_t = start_t + self.data[m_id][job_id]\n",
    "                task = {\"name\": \"job_{}\".format(\n",
    "                    job_id+1), \"start_time\": start_t, \"end_time\": end_t}\n",
    "                schedules[m_id][index+1] = task\n",
    "        makespan = int(schedules[self.nb_machines-1][-1][\"end_time\"])\n",
    "        t_t = e -s\n",
    "        return seq, schedules, makespan, t_t\n",
    "\n",
    "    def solve_johnson(self):\n",
    "        \"\"\"Solves a permutation flowshop problem using johnson's rule for a permutation problem of 2 machines and N jobs\n",
    "\n",
    "        Raises:\n",
    "            Exception: Raises exception when given a problem with more than 2 machines\n",
    "\n",
    "        Returns:\n",
    "            tuple -- returns a tuple containing the optimal sequence of scheduled jobs and a list of scheduled jobs on the 2 machines\n",
    "        \"\"\"\n",
    "\n",
    "        if self.nb_machines != 2:\n",
    "            raise Exception(\n",
    "                \"Johnson's algorithm only possible for a 2 machine problem\"\n",
    "            )\n",
    "        default_timer = None\n",
    "        if sys.platform == \"win32\":\n",
    "            default_timer = time.clock\n",
    "        else:\n",
    "            default_timer = time.time\n",
    "        s = default_timer.__call__()\n",
    "        # Build optimal sequence array\n",
    "        machine_1_sequence = [j for j in range(\n",
    "            self.nb_jobs) if self.data[0][j] <= self.data[1][j]]\n",
    "        machine_1_sequence.sort(key=lambda x: self.data[0][x])\n",
    "        machine_2_sequence = [j for j in range(\n",
    "            self.nb_jobs) if self.data[0][j] > self.data[1][j]]\n",
    "        machine_2_sequence.sort(key=lambda x: self.data[1][x], reverse=True)\n",
    "        seq = machine_1_sequence + machine_2_sequence\n",
    "        e = default_timer.__call__()\n",
    "        jobs_m1, jobs_m2 = [], []\n",
    "        job_name_rad = \"job_\"\n",
    "        job = {\"name\": job_name_rad +\n",
    "               str(\n",
    "                   seq[0]+1,\n",
    "               ),\n",
    "               \"start_time\": 0,\n",
    "               \"end_time\": self.data[0][seq[0]]}\n",
    "        jobs_m1.append(job)\n",
    "        job = {\"name\": job_name_rad+str(seq[0]+1), \"start_time\": self.data[0]\n",
    "               [seq[0]],\n",
    "               \"end_time\": self.data[0][seq[0]] + self.data[1][seq[0]]}\n",
    "        jobs_m2.append(job)\n",
    "\n",
    "        for job_id in seq[1::]:\n",
    "            # job on machine 1\n",
    "            job_name = job_name_rad + str(job_id + 1)\n",
    "            job_start_m1 = jobs_m1[-1][\"end_time\"]\n",
    "            job_end_m1 = job_start_m1 + self.data[0][job_id]\n",
    "            job = {\"name\": job_name, \"start_time\": job_start_m1,\n",
    "                   \"end_time\": job_end_m1}\n",
    "            jobs_m1.append(job)\n",
    "\n",
    "            # job on machine 2\n",
    "            job_start_m2 = max(job_end_m1, jobs_m2[-1][\"end_time\"])\n",
    "            job_end_m2 = job_start_m2 + self.data[1][job_id]\n",
    "\n",
    "            job = {\"name\": job_name, \"start_time\": job_start_m2,\n",
    "                   \"end_time\": job_end_m2}\n",
    "            jobs_m2.append(job)\n",
    "        optim_makespan = int(jobs_m2[-1][\"end_time\"])\n",
    "        t_t = e - s\n",
    "        return seq, [jobs_m1, jobs_m2], optim_makespan, t_t\n",
    "\n",
    "    @staticmethod\n",
    "    def johnson_seq(data):\n",
    "        # data matrix must have only two machines\n",
    "        nb_machines = len(data)\n",
    "        nb_jobs = len(data[0])\n",
    "        machine_1_sequence = [j for j in range(\n",
    "            nb_jobs) if data[0][j] <= data[1][j]]\n",
    "        machine_1_sequence.sort(key=lambda x: data[0][x])\n",
    "        machine_2_sequence = [j for j in range(\n",
    "            nb_jobs) if data[0][j] > data[1][j]]\n",
    "        machine_2_sequence.sort(key=lambda x: data[1][x], reverse=True)\n",
    "        seq = machine_1_sequence + machine_2_sequence\n",
    "        return seq\n",
    "\n",
    "    @staticmethod\n",
    "    def johnson_seq_var_2(data):\n",
    "        job_count = len(data)\n",
    "        job_ids = list(range(0, job_count))\n",
    "        l1 = []\n",
    "        l2 = []\n",
    "        for job_info in sorted(zip(job_ids, data), key=lambda t: min(t[1])):\n",
    "            job_id = job_info[0]\n",
    "            job_times = job_info[1]\n",
    "            if job_times[0] < job_times[1]:\n",
    "                l1.append(job_id)\n",
    "            else:\n",
    "                l2.insert(0, job_id)\n",
    "        return l1 + l2\n",
    "\n",
    "    def cds(self):\n",
    "        if type(self.data) is not np.ndarray:\n",
    "            data_ndarray = np.array(self.data)\n",
    "        else:\n",
    "            data_ndarray = self.data\n",
    "        data_transposed = data_ndarray.T\n",
    "        default_timer = None\n",
    "        if sys.platform == \"win32\":\n",
    "            default_timer = time.clock\n",
    "        else:\n",
    "            default_timer = time.time\n",
    "        s = default_timer.__call__()\n",
    "\n",
    "        merged_times = [[0, sum(j_t)] for j_t in data_transposed]\n",
    "        perms = []\n",
    "        for i in range(0, self.nb_machines-1):\n",
    "            for j in range(0, self.nb_jobs):\n",
    "                merged_times[j][0] += data_transposed[j][i]\n",
    "                merged_times[j][1] -= data_transposed[j][i]\n",
    "            perms.append(Flowshop.johnson_seq_var_2(merged_times))\n",
    "\n",
    "        seq = min(perms, key=lambda p: self._get_makespan(p, self.data))\n",
    "\n",
    "        e = default_timer.__call__()\n",
    "\n",
    "        schedules = np.zeros((self.nb_machines, self.nb_jobs), dtype=dict)\n",
    "        # schedule first job alone first\n",
    "        task = {\"name\": \"job_{}\".format(\n",
    "            seq[0]+1), \"start_time\": 0, \"end_time\": self.data[0][seq[0]]}\n",
    "        schedules[0][0] = task\n",
    "        for m_id in range(1, self.nb_machines):\n",
    "            start_t = schedules[m_id-1][0][\"end_time\"]\n",
    "            end_t = start_t + self.data[m_id][0]\n",
    "            task = {\"name\": \"job_{}\".format(\n",
    "                seq[0]+1), \"start_time\": start_t, \"end_time\": end_t}\n",
    "            schedules[m_id][0] = task\n",
    "\n",
    "        for index, job_id in enumerate(seq[1::]):\n",
    "            start_t = schedules[0][index][\"end_time\"]\n",
    "            end_t = start_t + self.data[0][job_id]\n",
    "            task = {\"name\": \"job_{}\".format(\n",
    "                job_id+1), \"start_time\": start_t, \"end_time\": end_t}\n",
    "            schedules[0][index+1] = task\n",
    "            for m_id in range(1, self.nb_machines):\n",
    "                start_t = max(schedules[m_id][index][\"end_time\"],\n",
    "                              schedules[m_id-1][index+1][\"end_time\"])\n",
    "                end_t = start_t + self.data[m_id][job_id]\n",
    "                task = {\"name\": \"job_{}\".format(\n",
    "                    job_id+1), \"start_time\": start_t, \"end_time\": end_t}\n",
    "                schedules[m_id][index+1] = task\n",
    "        max_mkspn = int(schedules[self.nb_machines-1][-1][\"end_time\"])\n",
    "        t_t = e - s\n",
    "        return seq, schedules, max_mkspn, t_t\n",
    "\n",
    "    def palmer_heuristic(self):\n",
    "        \"\"\"solves an N machines M jobs pfsp problem using Palmer's Heuristic\n",
    "        Returns:\n",
    "            tuple -- a tuple containing the job sequence, scheduled jobs and optimal makespan.\n",
    "        \"\"\"\n",
    "\n",
    "        def palmer_f(x): return -(self.nb_machines - (2*x - 1))\n",
    "\n",
    "        default_timer = None\n",
    "        if sys.platform == \"win32\":\n",
    "            default_timer = time.clock\n",
    "        else:\n",
    "            default_timer = time.time\n",
    "        s = default_timer.__call__()\n",
    "\n",
    "        weights = list(map(palmer_f, range(1, self.nb_machines+1)))\n",
    "        ws = []\n",
    "        for job_id in range(self.nb_jobs):\n",
    "            p_ij = sum([self.data[j][job_id]*weights[j]\n",
    "                        for j in range(self.nb_machines)])\n",
    "            ws.append((job_id, p_ij))\n",
    "        ws.sort(key=lambda x: x[1], reverse=True)\n",
    "        h_seq = [x[0] for x in ws]\n",
    "        e = default_timer.__call__()\n",
    "        schedules = np.zeros((self.nb_machines, self.nb_jobs), dtype=dict)\n",
    "        # schedule first job alone first\n",
    "        task = {\"name\": \"job_{}\".format(\n",
    "            h_seq[0]+1), \"start_time\": 0, \"end_time\": self.data[0][h_seq[0]]}\n",
    "        schedules[0][0] = task\n",
    "        for m_id in range(1, self.nb_machines):\n",
    "            start_t = schedules[m_id-1][0][\"end_time\"]\n",
    "            end_t = start_t + self.data[m_id][0]\n",
    "            task = {\"name\": \"job_{}\".format(\n",
    "                h_seq[0]+1), \"start_time\": start_t, \"end_time\": end_t}\n",
    "            schedules[m_id][0] = task\n",
    "\n",
    "        for index, job_id in enumerate(h_seq[1::]):\n",
    "            start_t = schedules[0][index][\"end_time\"]\n",
    "            end_t = start_t + self.data[0][job_id]\n",
    "            task = {\"name\": \"job_{}\".format(\n",
    "                job_id+1), \"start_time\": start_t, \"end_time\": end_t}\n",
    "            schedules[0][index+1] = task\n",
    "            for m_id in range(1, self.nb_machines):\n",
    "                start_t = max(schedules[m_id][index][\"end_time\"],\n",
    "                              schedules[m_id-1][index+1][\"end_time\"])\n",
    "                end_t = start_t + self.data[m_id][job_id]\n",
    "                task = {\"name\": \"job_{}\".format(\n",
    "                    job_id+1), \"start_time\": start_t, \"end_time\": end_t}\n",
    "                schedules[m_id][index+1] = task\n",
    "        opt_makespan = int(schedules[self.nb_machines-1][-1][\"end_time\"])\n",
    "        t_t = e - s\n",
    "        return h_seq, schedules, opt_makespan, t_t\n",
    "\n",
    "    def _get_makespan(self, seq, data):\n",
    "        c = np.zeros((self.nb_machines, len(seq)), dtype=object)\n",
    "        c[0][0] = (0, data[0][seq[0]])\n",
    "        for m_id in range(1, self.nb_machines):\n",
    "            s_t = c[m_id-1][0][1]\n",
    "            e_t = s_t + data[m_id][0]\n",
    "            c[m_id][0] = (s_t, e_t)\n",
    "        if len(seq) > 1:\n",
    "            for i, job_id in enumerate(seq[1::]):\n",
    "                s_t = c[0][i][1]\n",
    "                e_t = s_t + data[0][job_id]\n",
    "                c[0][i+1] = (s_t, e_t)\n",
    "                for m_id in range(1, self.nb_machines):\n",
    "                    s_t = max(c[m_id][i][1], c[m_id-1][i+1][1])\n",
    "                    e_t = s_t + data[m_id][job_id]\n",
    "                    c[m_id][i+1] = (s_t, e_t)\n",
    "        return c[self.nb_machines-1][-1][1]\n",
    "\n",
    "    def neh_heuristic(self):\n",
    "        sums = []\n",
    "        default_timer = None\n",
    "        if sys.platform == \"win32\":\n",
    "            default_timer = time.clock\n",
    "        else:\n",
    "            default_timer = time.time\n",
    "        s = default_timer.__call__()\n",
    "\n",
    "        for job_id in range(self.nb_jobs):\n",
    "            p_ij = sum([self.data[j][job_id]\n",
    "                        for j in range(self.nb_machines)])\n",
    "            sums.append((job_id, p_ij))\n",
    "        sums.sort(key=lambda x: x[1], reverse=True)\n",
    "        seq = []\n",
    "        for job in sums:\n",
    "            cands = []\n",
    "            for i in range(0, len(seq) + 1):\n",
    "                cand = seq[:i] + [job[0]] + seq[i:]\n",
    "                cands.append((cand, self._get_makespan(cand, self.data)))\n",
    "            seq = min(cands, key=lambda x: x[1])[0]\n",
    "\n",
    "        e = default_timer.__call__()\n",
    "\n",
    "        schedules = np.zeros((self.nb_machines, self.nb_jobs), dtype=dict)\n",
    "        # schedule first job alone first\n",
    "        task = {\"name\": \"job_{}\".format(\n",
    "            seq[0]+1), \"start_time\": 0, \"end_time\": self.data[0][seq[0]]}\n",
    "        schedules[0][0] = task\n",
    "        for m_id in range(1, self.nb_machines):\n",
    "            start_t = schedules[m_id-1][0][\"end_time\"]\n",
    "            end_t = start_t + self.data[m_id][0]\n",
    "            task = {\"name\": \"job_{}\".format(\n",
    "                seq[0]+1), \"start_time\": start_t, \"end_time\": end_t}\n",
    "            schedules[m_id][0] = task\n",
    "\n",
    "        for index, job_id in enumerate(seq[1::]):\n",
    "            start_t = schedules[0][index][\"end_time\"]\n",
    "            end_t = start_t + self.data[0][job_id]\n",
    "            task = {\"name\": \"job_{}\".format(\n",
    "                job_id+1), \"start_time\": start_t, \"end_time\": end_t}\n",
    "            schedules[0][index+1] = task\n",
    "            for m_id in range(1, self.nb_machines):\n",
    "                start_t = max(schedules[m_id][index][\"end_time\"],\n",
    "                              schedules[m_id-1][index+1][\"end_time\"])\n",
    "                end_t = start_t + self.data[m_id][job_id]\n",
    "                task = {\"name\": \"job_{}\".format(\n",
    "                    job_id+1), \"start_time\": start_t, \"end_time\": end_t}\n",
    "                schedules[m_id][index+1] = task\n",
    "        max_mkspn = int(schedules[self.nb_machines-1][-1][\"end_time\"])\n",
    "\n",
    "        t_t = e - s\n",
    "        return seq, schedules, max_mkspn, t_t\n",
    "\n",
    "    def swapTwoJobs(self,seq,pos1,pos2):\n",
    "        seq[pos1], seq[pos2] = seq[pos2], seq[pos1]\n",
    "        return seq\n",
    "\n",
    "    def simulated_annealing(self,Ti = 790,Tf = 3 ,alpha = 0.93):\n",
    "        #Number of jobs given\n",
    "        n = self.nb_jobs\n",
    "        default_timer = None\n",
    "        if sys.platform == \"win32\":\n",
    "            default_timer = time.clock\n",
    "        else:\n",
    "            default_timer = time.time\n",
    "        s = default_timer.__call__()\n",
    "        #Initialize the primary seq\n",
    "        old_seq,schedules,old_makeSpan, _ = self.cds()\n",
    "        new_seq = []\n",
    "        delta_mk1 = 0\n",
    "        #Initialize the temperature\n",
    "        T = Ti\n",
    "        Tf = Tf\n",
    "        alpha = alpha\n",
    "        # of iterations\n",
    "        temp_cycle = 0\n",
    "        while T >= Tf  :\n",
    "            new_seq = old_seq.copy()\n",
    "            job = new_seq.pop(randint(0,n-1))\n",
    "            new_seq.insert(randint(0,n-1),job)\n",
    "            new_make_span = self._get_makespan(new_seq,self.data)\n",
    "            delta_mk1 = new_make_span - old_makeSpan\n",
    "            if delta_mk1 <= 0:\n",
    "              old_seq = new_seq\n",
    "              old_makeSpan = new_make_span\n",
    "            else :\n",
    "              Aprob = np.exp(-(delta_mk1/T))\n",
    "              if Aprob > np.random.uniform(0.5,0.9):\n",
    "                  old_seq = new_seq\n",
    "                  old_makeSpan = new_make_span\n",
    "\n",
    "            T = T * alpha\n",
    "            temp_cycle += 1\n",
    "\n",
    "        e = default_timer.__call__()\n",
    "        #Result Sequence\n",
    "        seq = old_seq\n",
    "        schedules = np.zeros((self.nb_machines, self.nb_jobs), dtype=dict)\n",
    "        # schedule first job alone first\n",
    "        task = {\"name\": \"job_{}\".format(seq[0] + 1), \"start_time\": 0, \"end_time\": self.data[0][seq[0]]}\n",
    "        schedules[0][0] = task\n",
    "        for m_id in range(1, self.nb_machines):\n",
    "            start_t = schedules[m_id - 1][0][\"end_time\"]\n",
    "            end_t = start_t + self.data[m_id][0]\n",
    "            task = {\"name\": \"job_{}\".format(seq[0] + 1), \"start_time\": start_t, \"end_time\": end_t}\n",
    "            schedules[m_id][0] = task\n",
    "\n",
    "        for index, job_id in enumerate(seq[1::]):\n",
    "            start_t = schedules[0][index][\"end_time\"]\n",
    "            end_t = start_t + self.data[0][job_id]\n",
    "            task = {\"name\": \"job_{}\".format(\n",
    "                job_id + 1), \"start_time\": start_t, \"end_time\": end_t}\n",
    "            schedules[0][index + 1] = task\n",
    "            for m_id in range(1, self.nb_machines):\n",
    "                start_t = max(schedules[m_id][index][\"end_time\"],\n",
    "                              schedules[m_id - 1][index + 1][\"end_time\"])\n",
    "                end_t = start_t + self.data[m_id][job_id]\n",
    "                task = {\"name\": \"job_{}\".format(\n",
    "                    job_id + 1), \"start_time\": start_t, \"end_time\": end_t}\n",
    "                schedules[m_id][index + 1] = task\n",
    "        t_t = e - s\n",
    "\n",
    "        return seq, schedules, old_makeSpan, t_t"
   ]
  },
  {
   "cell_type": "markdown",
   "metadata": {},
   "source": [
    "## Tabu search <a class=\"anchor\" id=\"TabuSearch\"></a>"
   ]
  },
  {
   "cell_type": "code",
   "execution_count": 27,
   "metadata": {},
   "outputs": [],
   "source": [
    "def find_neighbours(solution, processing_times):\n",
    "    # This function will take a solution, and return a list that contains all solutions that are better than it.\n",
    "    num_jobs = len(solution)\n",
    "    cmax = evaluate_sequence(solution, processing_times)\n",
    "    bests = []\n",
    "    for k1 in range(num_jobs):\n",
    "        for k2 in range(k1+1, num_jobs):\n",
    "            neighbour = solution.copy()\n",
    "            swap(neighbour,k1,k2)\n",
    "            neighbour_cmax = evaluate_sequence(neighbour, processing_times)\n",
    "            if neighbour_cmax < cmax:\n",
    "                bests.append((neighbour_cmax, neighbour))\n",
    "    bests.sort(key=lambda x: x[0])\n",
    "    return bests"
   ]
  },
  {
   "cell_type": "code",
   "execution_count": 28,
   "metadata": {},
   "outputs": [],
   "source": [
    "def tabu_search(initial_solution, processing_times):\n",
    "    tabu_list = deque(maxlen=15)\n",
    "    best_solution = initial_solution.copy()\n",
    "    best_cmax = evaluate_sequence(initial_solution, processing_times)\n",
    "    iterations = 0\n",
    "    \n",
    "    while iterations < 1000:\n",
    "        neighbours = find_neighbours(best_solution, processing_times)\n",
    "        best_neighbour = None\n",
    "        \n",
    "        for neighbour in neighbours:\n",
    "            if neighbour[1] not in tabu_list:\n",
    "                neighbour_cmax = evaluate_sequence(neighbour[1], processing_times)\n",
    "                if best_neighbour is None or neighbour_cmax < best_cmax:\n",
    "                    best_neighbour = neighbour[1]\n",
    "                    best_cmax = neighbour_cmax\n",
    "        \n",
    "        if best_neighbour is not None:\n",
    "            best_solution = best_neighbour\n",
    "            tabu_list.append(best_neighbour)\n",
    "        \n",
    "        iterations += 1\n",
    "    \n",
    "    return best_solution, best_cmax"
   ]
  },
  {
   "cell_type": "markdown",
   "metadata": {},
   "source": [
    "## Random walk <a class=\"anchor\" id=\"Randomwalk\"></a>"
   ]
  },
  {
   "cell_type": "code",
   "execution_count": 29,
   "metadata": {},
   "outputs": [],
   "source": [
    "# Permuter deux jobs aléatoirement\n",
    "def random_swap(solution, processing_times):\n",
    "    i = np.random.choice(list(solution))\n",
    "    k = np.random.choice(list(solution))\n",
    "    \n",
    "    # Generating two different random positions\n",
    "    while (i == k):\n",
    "        k = np.random.choice(list(solution))\n",
    "    # Switch between job i and job k in the given sequence\n",
    "    neighbor = solution.copy()\n",
    "    return swap(neighbor, i, k), evaluate_sequence(neighbor, processing_times)"
   ]
  },
  {
   "cell_type": "code",
   "execution_count": 30,
   "metadata": {},
   "outputs": [],
   "source": [
    "def random_walk(init_solution, processing_times, max_iterations=1000, threshold=None):\n",
    "    current_solution = init_solution\n",
    "    current_cost = evaluate_sequence(init_solution, processing_times)\n",
    "    iterations = 0\n",
    "    while iterations < max_iterations:\n",
    "        current_solution, current_cost = random_swap(current_solution, processing_times)\n",
    "        if threshold is not None and current_cost < threshold:\n",
    "            return current_solution, current_cost, iterations\n",
    "        iterations += 1\n",
    "    return current_solution, current_cost, iterations\n"
   ]
  },
  {
   "cell_type": "code",
   "execution_count": 31,
   "metadata": {},
   "outputs": [
    {
     "name": "stdout",
     "output_type": "stream",
     "text": [
      "[[ 58  97  31  17 103  20  93  61 102  16]\n",
      " [  5  80 103  44 104  84  42  68  89  25]\n",
      " [ 42  97  43  90  12  97  49  62 113 112]\n",
      " [ 38  26 101  47  69  14  78  17  49  89]\n",
      " [ 96 117  72  16 107  86  23  63  76  51]\n",
      " [ 42  51  22  37  54  82  23  62  86  22]\n",
      " [ 84 106  97 112  94 114  17  87  20  27]\n",
      " [ 25  84  37  35  86 112  74  21  41  95]\n",
      " [ 73  36  13  19 104 101 109  94  70  65]\n",
      " [ 89  14  73  89  92  96 116  60  27  91]\n",
      " [  5  60  77  50  52  82  35   6  95  10]\n",
      " [ 67  30  25 116  45  78  13  29 117  38]\n",
      " [ 28 111  41  19 104 105 107  46  48  45]\n",
      " [ 44 102  17  61  57  85  27  49  55  86]\n",
      " [ 56  83  51 105   6  14  12  31  13  54]] \n",
      "\n",
      "Initial solution: [13, 0, 10, 6, 11, 7, 14, 12, 2, 1, 4, 8, 3, 5, 9] \n",
      "\n",
      "Makespan: 2043.0\n"
     ]
    }
   ],
   "source": [
    "# Generate a random example to work with 7 jobs and 2 machines\n",
    "rnd_data = np.random.randint(size=(15,10), low=5, high=120)\n",
    "permutation = np.random.permutation(15).tolist()\n",
    "print(rnd_data, \"\\n\")\n",
    "print('Initial solution:', permutation, \"\\n\")\n",
    "\n",
    "Cmax = evaluate_sequence(permutation, rnd_data)\n",
    "print(f'Makespan: {Cmax}')"
   ]
  },
  {
   "cell_type": "code",
   "execution_count": 32,
   "metadata": {},
   "outputs": [
    {
     "name": "stdout",
     "output_type": "stream",
     "text": [
      "Initial solution: [13, 0, 10, 6, 11, 7, 14, 12, 2, 1, 4, 8, 3, 5, 9]\n",
      "Makespan: 2043.0\n",
      "\n",
      "Generated solution: [10, 8, 12, 3, 7, 5, 0, 2, 9, 11, 14, 1, 13, 4, 6]\n",
      "Makespan: 1694.0\n",
      "Number of iterations: 5338\n",
      "\n",
      "Elapsed time: 1.3174371719360352 seconds\n"
     ]
    }
   ],
   "source": [
    "print(\"Initial solution:\", permutation)\n",
    "print(\"Makespan:\", Cmax)\n",
    "\n",
    "start_time = time.time()\n",
    "neighbor, neighbor_cmax, iterations = random_walk(permutation, rnd_data, threshold=1700, max_iterations=10000)\n",
    "elapsed_time = time.time() - start_time\n",
    "\n",
    "print(\"\\nGenerated solution:\", neighbor)\n",
    "print(\"Makespan:\", neighbor_cmax)\n",
    "print(\"Number of iterations:\", iterations)\n",
    "print(\"\\nElapsed time:\", elapsed_time, \"seconds\")"
   ]
  },
  {
   "cell_type": "markdown",
   "metadata": {},
   "source": [
    "## VNS <a class=\"anchor\" id=\"VNS\"></a>"
   ]
  },
  {
   "cell_type": "markdown",
   "metadata": {},
   "source": [
    "#### neighborhood structures"
   ]
  },
  {
   "cell_type": "code",
   "execution_count": 33,
   "metadata": {},
   "outputs": [],
   "source": [
    "def random_insertion(solution, processing_times):\n",
    "    # This function consists of choosing random two indices, i and k.\n",
    "    # Remove the element at indice i, and insert it in the position k.\n",
    "    i = np.random.choice(list(solution))\n",
    "    k = np.random.choice(list(solution))\n",
    "    while (i == k):\n",
    "        k = np.random.choice(list(solution))\n",
    "    neighbor = solution.copy()\n",
    "    neighbor.remove(solution[i])\n",
    "    neighbor.insert(k, solution[i])\n",
    "    return neighbor, evaluate_sequence(neighbor, processing_times)"
   ]
  },
  {
   "cell_type": "code",
   "execution_count": 34,
   "metadata": {},
   "outputs": [],
   "source": [
    "def swap_sequence(solution, processing_times):\n",
    "    s = solution.copy()\n",
    "    midpoint = len(s) // 2 + 1\n",
    "    # Swap the first half with the second half\n",
    "    s[:midpoint], s[midpoint:] = s[midpoint:], s[:midpoint]\n",
    "    cost = evaluate_sequence(s, processing_times)\n",
    "    return s, cost"
   ]
  },
  {
   "cell_type": "code",
   "execution_count": 35,
   "metadata": {},
   "outputs": [],
   "source": [
    "def random_subarray_move_to_start(solution, processing_times):\n",
    "    s = solution.copy()\n",
    "    # Randomly choose indices i and j\n",
    "    i, j = np.random.randint(0, len(s), size=2)\n",
    "    i, j = min(i, j), max(i, j)  # Ensure i < j\n",
    "    # Extract the subarray from index i to j\n",
    "    subarray = s[i:j+1]\n",
    "    # Move the subarray to the beginning of the array\n",
    "    new_solution = np.concatenate((subarray, s[:i], s[j+1:]))\n",
    "    new_solution = new_solution.tolist()\n",
    "    cost = evaluate_sequence(new_solution, processing_times)\n",
    "    return new_solution, cost"
   ]
  },
  {
   "cell_type": "code",
   "execution_count": 36,
   "metadata": {},
   "outputs": [],
   "source": [
    "def get_neighbor(solution, processing_times, method=1): #\"random_swap\"):\n",
    "    # Swapping methods\n",
    "    if method == 1: #\"random_swap\":\n",
    "        neighbor, cost = random_swap(solution, processing_times)\n",
    "    elif method == 2: #\"best_swap\":\n",
    "        neighbor, cost = swap_sequence(solution, processing_times)\n",
    "    # Insertion methods\n",
    "    elif method == 3: #\"random_insertion\":\n",
    "        neighbor, cost = random_insertion(solution, processing_times)\n",
    "    # Randomly pick a method of generating neighbors.    \n",
    "    return neighbor, cost"
   ]
  },
  {
   "cell_type": "code",
   "execution_count": 37,
   "metadata": {},
   "outputs": [],
   "source": [
    "def swap_jobs(solution, i, j):\n",
    "    # Swap the positions of two jobs in the solution\n",
    "    solution[i], solution[j] = solution[j], solution[i]"
   ]
  },
  {
   "cell_type": "code",
   "execution_count": 38,
   "metadata": {},
   "outputs": [],
   "source": [
    "def local_search(solution, processing_times):\n",
    "    # Apply a simple swap-based local search\n",
    "    improved = True\n",
    "    while improved:\n",
    "        improved = False\n",
    "        for i in range(len(solution)):\n",
    "            for j in range(i + 1, len(solution)):\n",
    "                # Evaluate the solution after swapping jobs i and j\n",
    "                new_solution = solution.copy()\n",
    "                swap_jobs(new_solution, i, j)\n",
    "                new_makespan = evaluate_sequence(new_solution, processing_times)\n",
    "\n",
    "                # Accept the new solution if it improves the makespan\n",
    "                if new_makespan < evaluate_sequence(solution, processing_times):\n",
    "                    solution = new_solution\n",
    "                    improved = True\n",
    "                    break  # Exit inner loop\n",
    "\n",
    "    return solution"
   ]
  },
  {
   "cell_type": "code",
   "execution_count": 39,
   "metadata": {},
   "outputs": [],
   "source": [
    "def vns(sol_init, processing_times, max_iterations, k_max):\n",
    "    current_solution = sol_init\n",
    "    current_cost = evaluate_sequence(current_solution, processing_times)\n",
    "    iteration = 0\n",
    "    while iteration < max_iterations:       \n",
    "        k = 1\n",
    "        while k < k_max:\n",
    "            # ======== shake ========\n",
    "            best_neighbor_solution, best_neighbor_cost = get_neighbor(current_solution, processing_times, method=k) # shake(current_solution, k)\n",
    "            # best_neighbor_cost = evaluate_sequence(best_neighbor_solution, processing_times)\n",
    "            \n",
    "            # ======== local search (Best Improvement) ========\n",
    "            \"\"\" for _ in range(1, k_max+1):\n",
    "                neighbor, neighbor_cost  = get_neighbor(best_neighbor_solution, processing_times, method=\"random\")\n",
    "                if (neighbor_cost < best_neighbor_cost):\n",
    "                    best_neighbor_solution = neighbor\n",
    "                    best_neighbor_cost = neighbor_cost \"\"\"\n",
    "            best_neighbor_solution = local_search(best_neighbor_solution, processing_times) \n",
    "            best_neighbor_cost = evaluate_sequence(best_neighbor_solution, processing_times)           \n",
    "            \n",
    "            # ======== change neighborhood ========\n",
    "            if ( best_neighbor_cost < current_cost ):\n",
    "                current_solution = best_neighbor_solution # Make a move\n",
    "                current_cost = best_neighbor_cost\n",
    "                k = 1 # Initial neighborhood\n",
    "            else:\n",
    "                k += 1 # Next neighborhood\n",
    "\n",
    "        iteration += 1\n",
    "    return current_solution, current_cost"
   ]
  },
  {
   "cell_type": "code",
   "execution_count": 44,
   "metadata": {},
   "outputs": [
    {
     "name": "stdout",
     "output_type": "stream",
     "text": [
      "[[105  37  95  53 108 114  24  25  94 102]\n",
      " [ 10  98 102  36  51  79  30   5  29  44]\n",
      " [ 89  83  14 118  49   6  72  68  38  18]\n",
      " [ 67  30 119  33  14  56  67  83  99  46]\n",
      " [ 35  44  19  79  34  37  73  65  68  28]\n",
      " [ 86  68  10  47  70  49  16  40  27  97]\n",
      " [ 86  99  46   9  14  69 115   9  59 100]\n",
      " [ 21  36  91  35  82  98  89  10 116  19]\n",
      " [113  25  66  92   7  80 103 112  16 110]\n",
      " [ 79  38  38  37  19  69 103 113 113 107]\n",
      " [ 49  16  93  47 100  18  45  28  44  38]\n",
      " [108  72  51  61   6  25  40  31  95  65]\n",
      " [ 67  95  45  63  25  55 115 105  37  62]\n",
      " [100  35  87  74  85  22  60  85  41  54]\n",
      " [  6  20  68  86 107   7  15  55  65  89]] \n",
      "\n",
      "Initial solution: [0, 2, 11, 9, 4, 8, 7, 3, 1, 14, 5, 13, 10, 6, 12] \n",
      "\n",
      "Makespan: 1969.0\n"
     ]
    }
   ],
   "source": [
    "# Generate a random example to work with 7 jobs and 2 machines\n",
    "rnd_data = np.random.randint(size=(15,10), low=5, high=120)\n",
    "permutation = np.random.permutation(15).tolist()\n",
    "print(rnd_data, \"\\n\")\n",
    "print('Initial solution:', permutation, \"\\n\")\n",
    "\n",
    "Cmax = evaluate_sequence(permutation, rnd_data)\n",
    "print(f'Makespan: {Cmax}')"
   ]
  },
  {
   "cell_type": "code",
   "execution_count": 45,
   "metadata": {},
   "outputs": [
    {
     "name": "stdout",
     "output_type": "stream",
     "text": [
      "Initial solution: [0, 2, 11, 9, 4, 8, 7, 3, 1, 14, 5, 13, 10, 6, 12]\n",
      "Makespan: 1969.0\n",
      "\n",
      "Generated solution: [9, 14, 4, 6, 3, 5, 12, 0, 10, 11, 8, 7, 13, 1, 2]\n",
      "Makespan: 1590.0\n",
      "\n",
      "Elapsed time: 6.53595757484436 seconds\n"
     ]
    }
   ],
   "source": [
    "print(\"Initial solution:\", permutation)\n",
    "print(\"Makespan:\", Cmax)\n",
    "\n",
    "start_time = time.time()\n",
    "neighbor, neighbor_cmax = vns(permutation, rnd_data, max_iterations=10, k_max=4)\n",
    "elapsed_time = time.time() - start_time\n",
    "\n",
    "print(\"\\nGenerated solution:\", neighbor)\n",
    "print(\"Makespan:\", neighbor_cmax)\n",
    "print(\"\\nElapsed time:\", elapsed_time, \"seconds\")"
   ]
  },
  {
   "cell_type": "markdown",
   "metadata": {},
   "source": [
    "# Tests <a class=\"anchor\" id=\"Test\"></a>"
   ]
  },
  {
   "cell_type": "code",
   "execution_count": 50,
   "metadata": {},
   "outputs": [],
   "source": [
    "import os\n",
    "\n",
    "def list_files_in_folder(folder_path, num_files=12):\n",
    "    files = os.listdir(folder_path)\n",
    "    return files[:num_files]\n",
    "\n",
    "folder_path = \"benchmarks\"\n",
    "file_names = list_files_in_folder(folder_path)"
   ]
  },
  {
   "cell_type": "markdown",
   "metadata": {},
   "source": [
    "### random walk <a class=\"anchor\" id=\"testRandomwalk\"></a>"
   ]
  },
  {
   "cell_type": "code",
   "execution_count": 91,
   "metadata": {},
   "outputs": [
    {
     "name": "stdout",
     "output_type": "stream",
     "text": [
      "tai20_10.txt\n",
      "tai20_20.txt\n",
      "tai20_5.txt\n",
      "tai50_10.txt\n",
      "tai50_5.txt\n"
     ]
    },
    {
     "data": {
      "text/html": [
       "<div>\n",
       "<style scoped>\n",
       "    .dataframe tbody tr th:only-of-type {\n",
       "        vertical-align: middle;\n",
       "    }\n",
       "\n",
       "    .dataframe tbody tr th {\n",
       "        vertical-align: top;\n",
       "    }\n",
       "\n",
       "    .dataframe thead th {\n",
       "        text-align: right;\n",
       "    }\n",
       "</style>\n",
       "<table border=\"1\" class=\"dataframe\">\n",
       "  <thead>\n",
       "    <tr style=\"text-align: right;\">\n",
       "      <th></th>\n",
       "      <th>File Name</th>\n",
       "      <th>Instance</th>\n",
       "      <th>Upper Bound</th>\n",
       "      <th>Initial solution</th>\n",
       "      <th>Makespan</th>\n",
       "    </tr>\n",
       "  </thead>\n",
       "  <tbody>\n",
       "    <tr>\n",
       "      <th>0</th>\n",
       "      <td>tai20_10</td>\n",
       "      <td>0</td>\n",
       "      <td>1582</td>\n",
       "      <td>1924</td>\n",
       "      <td>2009</td>\n",
       "    </tr>\n",
       "    <tr>\n",
       "      <th>1</th>\n",
       "      <td>tai20_20</td>\n",
       "      <td>0</td>\n",
       "      <td>2297</td>\n",
       "      <td>2674</td>\n",
       "      <td>2861</td>\n",
       "    </tr>\n",
       "    <tr>\n",
       "      <th>2</th>\n",
       "      <td>tai20_5</td>\n",
       "      <td>0</td>\n",
       "      <td>1278</td>\n",
       "      <td>1517</td>\n",
       "      <td>1522</td>\n",
       "    </tr>\n",
       "    <tr>\n",
       "      <th>3</th>\n",
       "      <td>tai50_10</td>\n",
       "      <td>0</td>\n",
       "      <td>3025</td>\n",
       "      <td>3725</td>\n",
       "      <td>4064</td>\n",
       "    </tr>\n",
       "    <tr>\n",
       "      <th>4</th>\n",
       "      <td>tai50_5</td>\n",
       "      <td>0</td>\n",
       "      <td>2724</td>\n",
       "      <td>3073</td>\n",
       "      <td>3266</td>\n",
       "    </tr>\n",
       "  </tbody>\n",
       "</table>\n",
       "</div>"
      ],
      "text/plain": [
       "  File Name Instance Upper Bound Initial solution Makespan\n",
       "0  tai20_10        0        1582             1924     2009\n",
       "1  tai20_20        0        2297             2674     2861\n",
       "2   tai20_5        0        1278             1517     1522\n",
       "3  tai50_10        0        3025             3725     4064\n",
       "4   tai50_5        0        2724             3073     3266"
      ]
     },
     "execution_count": 91,
     "metadata": {},
     "output_type": "execute_result"
    }
   ],
   "source": [
    "results_df = pd.DataFrame(columns=[\"File Name\", \"Instance\", \"Upper Bound\", \"Initial solution\", \"Makespan\"])\n",
    "\n",
    "for file_name in file_names:\n",
    "    print(file_name)\n",
    "    taillard = load_taillard(path=\"benchmarks/\"+file_name)\n",
    "    data = np.array(taillard[0]['jobs'])\n",
    "    permutation = np.random.permutation(len(data)).tolist()\n",
    "    initial_solution = evaluate_sequence(permutation, data)\n",
    "    neighbor, neighbor_cmax, iterations  = random_walk(permutation , data, threshold=None, max_iterations=1000)\n",
    "    \n",
    "    new_row = pd.DataFrame({\"File Name\": [file_name[:-4]],\n",
    "                                    #\"Generated Solution\": neighbor,\n",
    "                                    \"Instance\": [0],\n",
    "                                    \"Upper Bound\": [taillard[0]['upper_bound']],\n",
    "                                    \"Initial solution\": [int(initial_solution)],\n",
    "                                    \"Makespan\": [int(neighbor_cmax)]})\n",
    "    \n",
    "    results_df = pd.concat([results_df, new_row], ignore_index=True)\n",
    "    \n",
    "results_df\n",
    "# plot_gantt(np.array(data), neighbor)"
   ]
  },
  {
   "cell_type": "code",
   "execution_count": 93,
   "metadata": {},
   "outputs": [
    {
     "data": {
      "image/png": "[encoded data removed]",
      "text/plain": [
       "<Figure size 1000x600 with 1 Axes>"
      ]
     },
     "metadata": {},
     "output_type": "display_data"
    }
   ],
   "source": [
    "plot_test(results_df,\"Random walk\")"
   ]
  },
  {
   "cell_type": "markdown",
   "metadata": {},
   "source": [
    "### VNS <a class=\"anchor\" id=\"testVNS\"></a>"
   ]
  },
  {
   "cell_type": "code",
   "execution_count": 51,
   "metadata": {},
   "outputs": [],
   "source": [
    "file_names = list_files_in_folder(folder_path)"
   ]
  },
  {
   "cell_type": "code",
   "execution_count": 52,
   "metadata": {},
   "outputs": [
    {
     "name": "stdout",
     "output_type": "stream",
     "text": [
      "['tai20_10.txt', 'tai20_20.txt', 'tai20_5.txt', 'tai50_10.txt', 'tai50_20.txt', 'tai50_5.txt']\n"
     ]
    }
   ],
   "source": [
    "names_to_remove = [\"tai200_20.txt\" , \"tai200_10.txt\", \"tai100_20.txt\", \"tai100_10.txt\",\"tai100_5.txt\", \"tai500_20.txt\"]\n",
    "\n",
    "file_names = [x for x in file_names if x not in names_to_remove]\n",
    "\n",
    "print(file_names)"
   ]
  },
  {
   "cell_type": "code",
   "execution_count": 94,
   "metadata": {},
   "outputs": [
    {
     "name": "stdout",
     "output_type": "stream",
     "text": [
      "tai20_10.txt\n",
      "tai20_20.txt\n",
      "tai20_5.txt\n",
      "tai50_10.txt\n",
      "tai50_5.txt\n"
     ]
    },
    {
     "data": {
      "text/html": [
       "<div>\n",
       "<style scoped>\n",
       "    .dataframe tbody tr th:only-of-type {\n",
       "        vertical-align: middle;\n",
       "    }\n",
       "\n",
       "    .dataframe tbody tr th {\n",
       "        vertical-align: top;\n",
       "    }\n",
       "\n",
       "    .dataframe thead th {\n",
       "        text-align: right;\n",
       "    }\n",
       "</style>\n",
       "<table border=\"1\" class=\"dataframe\">\n",
       "  <thead>\n",
       "    <tr style=\"text-align: right;\">\n",
       "      <th></th>\n",
       "      <th>File Name</th>\n",
       "      <th>Instance</th>\n",
       "      <th>Upper Bound</th>\n",
       "      <th>Initial solution</th>\n",
       "      <th>Makespan</th>\n",
       "    </tr>\n",
       "  </thead>\n",
       "  <tbody>\n",
       "    <tr>\n",
       "      <th>0</th>\n",
       "      <td>tai20_10</td>\n",
       "      <td>0</td>\n",
       "      <td>1582</td>\n",
       "      <td>2262</td>\n",
       "      <td>1637</td>\n",
       "    </tr>\n",
       "    <tr>\n",
       "      <th>1</th>\n",
       "      <td>tai20_20</td>\n",
       "      <td>0</td>\n",
       "      <td>2297</td>\n",
       "      <td>2697</td>\n",
       "      <td>2403</td>\n",
       "    </tr>\n",
       "    <tr>\n",
       "      <th>2</th>\n",
       "      <td>tai20_5</td>\n",
       "      <td>0</td>\n",
       "      <td>1278</td>\n",
       "      <td>1520</td>\n",
       "      <td>1297</td>\n",
       "    </tr>\n",
       "    <tr>\n",
       "      <th>3</th>\n",
       "      <td>tai50_10</td>\n",
       "      <td>0</td>\n",
       "      <td>3025</td>\n",
       "      <td>3974</td>\n",
       "      <td>3086</td>\n",
       "    </tr>\n",
       "    <tr>\n",
       "      <th>4</th>\n",
       "      <td>tai50_5</td>\n",
       "      <td>0</td>\n",
       "      <td>2724</td>\n",
       "      <td>3405</td>\n",
       "      <td>2729</td>\n",
       "    </tr>\n",
       "  </tbody>\n",
       "</table>\n",
       "</div>"
      ],
      "text/plain": [
       "  File Name Instance Upper Bound Initial solution Makespan\n",
       "0  tai20_10        0        1582             2262     1637\n",
       "1  tai20_20        0        2297             2697     2403\n",
       "2   tai20_5        0        1278             1520     1297\n",
       "3  tai50_10        0        3025             3974     3086\n",
       "4   tai50_5        0        2724             3405     2729"
      ]
     },
     "execution_count": 94,
     "metadata": {},
     "output_type": "execute_result"
    }
   ],
   "source": [
    "results_df2 = pd.DataFrame(columns=[\"File Name\", \"Instance\", \"Upper Bound\", \"Initial solution\", \"Makespan\"])\n",
    "for file_name in file_names:\n",
    "    print(file_name)\n",
    "    taillard = load_taillard(path=\"benchmarks/\"+file_name)\n",
    "    data = np.array(taillard[0]['jobs'])\n",
    "    permutation = np.random.permutation(len(data)).tolist()\n",
    "    initial_solution = evaluate_sequence(permutation, data)\n",
    "    neighbor, neighbor_cmax = vns(permutation, data, max_iterations=5, k_max=3)\n",
    "    \n",
    "    new_row = pd.DataFrame({\"File Name\": [file_name[:-4]],\n",
    "                                    #\"Generated Solution\": neighbor,\n",
    "                                    \"Instance\": [0],\n",
    "                                    \"Upper Bound\": [taillard[0]['upper_bound']],\n",
    "                                    \"Initial solution\": [int(initial_solution)],\n",
    "                                    \"Makespan\": [int(neighbor_cmax)]})\n",
    "    \n",
    "    results_df2 = pd.concat([results_df2, new_row], ignore_index=True)\n",
    "    \n",
    "results_df2\n",
    "# plot_gantt(np.array(data), neighbor)"
   ]
  },
  {
   "cell_type": "code",
   "execution_count": 95,
   "metadata": {},
   "outputs": [
    {
     "data": {
      "image/png": "[encoded data removed]",
      "text/plain": [
       "<Figure size 1000x600 with 1 Axes>"
      ]
     },
     "metadata": {},
     "output_type": "display_data"
    }
   ],
   "source": [
    "plot_test(results_df2,\"VNS\")"
   ]
  },
  {
   "cell_type": "markdown",
   "metadata": {},
   "source": [
    "### Hill climbing <a class=\"anchor\" id=\"testhillClimbing\"></a>"
   ]
  },
  {
   "cell_type": "code",
   "execution_count": 54,
   "metadata": {},
   "outputs": [],
   "source": [
    "file_names = list_files_in_folder(folder_path)"
   ]
  },
  {
   "cell_type": "code",
   "execution_count": 96,
   "metadata": {},
   "outputs": [
    {
     "name": "stdout",
     "output_type": "stream",
     "text": [
      "tai20_10.txt\n",
      "tai20_20.txt\n",
      "tai20_5.txt\n",
      "tai50_10.txt\n",
      "tai50_5.txt\n"
     ]
    },
    {
     "data": {
      "text/html": [
       "<div>\n",
       "<style scoped>\n",
       "    .dataframe tbody tr th:only-of-type {\n",
       "        vertical-align: middle;\n",
       "    }\n",
       "\n",
       "    .dataframe tbody tr th {\n",
       "        vertical-align: top;\n",
       "    }\n",
       "\n",
       "    .dataframe thead th {\n",
       "        text-align: right;\n",
       "    }\n",
       "</style>\n",
       "<table border=\"1\" class=\"dataframe\">\n",
       "  <thead>\n",
       "    <tr style=\"text-align: right;\">\n",
       "      <th></th>\n",
       "      <th>File Name</th>\n",
       "      <th>Instance</th>\n",
       "      <th>Upper Bound</th>\n",
       "      <th>Initial solution</th>\n",
       "      <th>Makespan</th>\n",
       "    </tr>\n",
       "  </thead>\n",
       "  <tbody>\n",
       "    <tr>\n",
       "      <th>0</th>\n",
       "      <td>tai20_10</td>\n",
       "      <td>0</td>\n",
       "      <td>1582</td>\n",
       "      <td>1769</td>\n",
       "      <td>1736</td>\n",
       "    </tr>\n",
       "    <tr>\n",
       "      <th>1</th>\n",
       "      <td>tai20_20</td>\n",
       "      <td>0</td>\n",
       "      <td>2297</td>\n",
       "      <td>2391</td>\n",
       "      <td>2343</td>\n",
       "    </tr>\n",
       "    <tr>\n",
       "      <th>2</th>\n",
       "      <td>tai20_5</td>\n",
       "      <td>0</td>\n",
       "      <td>1278</td>\n",
       "      <td>1358</td>\n",
       "      <td>1358</td>\n",
       "    </tr>\n",
       "    <tr>\n",
       "      <th>3</th>\n",
       "      <td>tai50_10</td>\n",
       "      <td>0</td>\n",
       "      <td>3025</td>\n",
       "      <td>3513</td>\n",
       "      <td>3480</td>\n",
       "    </tr>\n",
       "    <tr>\n",
       "      <th>4</th>\n",
       "      <td>tai50_5</td>\n",
       "      <td>0</td>\n",
       "      <td>2724</td>\n",
       "      <td>2899</td>\n",
       "      <td>2899</td>\n",
       "    </tr>\n",
       "  </tbody>\n",
       "</table>\n",
       "</div>"
      ],
      "text/plain": [
       "  File Name Instance Upper Bound Initial solution Makespan\n",
       "0  tai20_10        0        1582             1769     1736\n",
       "1  tai20_20        0        2297             2391     2343\n",
       "2   tai20_5        0        1278             1358     1358\n",
       "3  tai50_10        0        3025             3513     3480\n",
       "4   tai50_5        0        2724             2899     2899"
      ]
     },
     "execution_count": 96,
     "metadata": {},
     "output_type": "execute_result"
    }
   ],
   "source": [
    "results_df3 = pd.DataFrame(columns=[\"File Name\", \"Instance\", \"Upper Bound\", \"Initial solution\", \"Makespan\"])\n",
    "for file_name in file_names:\n",
    "    print(file_name)\n",
    "    taillard = load_taillard(path=\"benchmarks/\"+file_name)\n",
    "    data = np.array(taillard[0]['jobs'])\n",
    "    permutation = np.random.permutation(len(data)).tolist()\n",
    "    permutation , initial_solution = neh_algorithm(data.T)\n",
    "    neighbor, neighbor_cmax, _ = simple_hill_climbing(permutation, data.T , 10000)\n",
    "    \n",
    "    new_row = pd.DataFrame({\"File Name\": [file_name[:-4]],\n",
    "                                    #\"Generated Solution\": neighbor,\n",
    "                                    \"Instance\": [0],\n",
    "                                    \"Upper Bound\": [taillard[0]['upper_bound']],\n",
    "                                    \"Initial solution\": [int(initial_solution)],\n",
    "                                    \"Makespan\": [int(neighbor_cmax)]})\n",
    "    \n",
    "    results_df3 = pd.concat([results_df3, new_row], ignore_index=True)\n",
    "        \n",
    "results_df3\n",
    "# plot_gantt(np.array(data), neighbor)"
   ]
  },
  {
   "cell_type": "code",
   "execution_count": 97,
   "metadata": {},
   "outputs": [
    {
     "data": {
      "image/png": "[encoded data removed]",
      "text/plain": [
       "<Figure size 1000x600 with 1 Axes>"
      ]
     },
     "metadata": {},
     "output_type": "display_data"
    }
   ],
   "source": [
    "plot_test(results_df3,\"Simplest Hill Climbing\")"
   ]
  },
  {
   "cell_type": "code",
   "execution_count": 55,
   "metadata": {},
   "outputs": [],
   "source": [
    "file_names = list_files_in_folder(folder_path)"
   ]
  },
  {
   "cell_type": "code",
   "execution_count": 56,
   "metadata": {},
   "outputs": [
    {
     "name": "stdout",
     "output_type": "stream",
     "text": [
      "['tai20_10.txt', 'tai20_20.txt', 'tai20_5.txt', 'tai50_10.txt', 'tai50_20.txt', 'tai50_5.txt']\n"
     ]
    }
   ],
   "source": [
    "names_to_remove = [\"tai200_20.txt\" , \"tai200_10.txt\", \"tai100_20.txt\", \"tai100_10.txt\",\"tai100_5.txt\", \"tai500_20.txt\"]\n",
    "\n",
    "file_names = [x for x in file_names if x not in names_to_remove]\n",
    "\n",
    "print(file_names)"
   ]
  },
  {
   "cell_type": "code",
   "execution_count": 98,
   "metadata": {},
   "outputs": [
    {
     "name": "stdout",
     "output_type": "stream",
     "text": [
      "tai20_10.txt\n",
      "tai20_20.txt\n",
      "tai20_5.txt\n",
      "tai50_10.txt\n",
      "tai50_5.txt\n"
     ]
    },
    {
     "data": {
      "text/html": [
       "<div>\n",
       "<style scoped>\n",
       "    .dataframe tbody tr th:only-of-type {\n",
       "        vertical-align: middle;\n",
       "    }\n",
       "\n",
       "    .dataframe tbody tr th {\n",
       "        vertical-align: top;\n",
       "    }\n",
       "\n",
       "    .dataframe thead th {\n",
       "        text-align: right;\n",
       "    }\n",
       "</style>\n",
       "<table border=\"1\" class=\"dataframe\">\n",
       "  <thead>\n",
       "    <tr style=\"text-align: right;\">\n",
       "      <th></th>\n",
       "      <th>File Name</th>\n",
       "      <th>Instance</th>\n",
       "      <th>Upper Bound</th>\n",
       "      <th>Initial solution</th>\n",
       "      <th>Makespan</th>\n",
       "    </tr>\n",
       "  </thead>\n",
       "  <tbody>\n",
       "    <tr>\n",
       "      <th>0</th>\n",
       "      <td>tai20_10</td>\n",
       "      <td>0</td>\n",
       "      <td>1582</td>\n",
       "      <td>1769</td>\n",
       "      <td>1749</td>\n",
       "    </tr>\n",
       "    <tr>\n",
       "      <th>1</th>\n",
       "      <td>tai20_20</td>\n",
       "      <td>0</td>\n",
       "      <td>2297</td>\n",
       "      <td>2391</td>\n",
       "      <td>2380</td>\n",
       "    </tr>\n",
       "    <tr>\n",
       "      <th>2</th>\n",
       "      <td>tai20_5</td>\n",
       "      <td>0</td>\n",
       "      <td>1278</td>\n",
       "      <td>1358</td>\n",
       "      <td>1358</td>\n",
       "    </tr>\n",
       "    <tr>\n",
       "      <th>3</th>\n",
       "      <td>tai50_10</td>\n",
       "      <td>0</td>\n",
       "      <td>3025</td>\n",
       "      <td>3513</td>\n",
       "      <td>3480</td>\n",
       "    </tr>\n",
       "    <tr>\n",
       "      <th>4</th>\n",
       "      <td>tai50_5</td>\n",
       "      <td>0</td>\n",
       "      <td>2724</td>\n",
       "      <td>2899</td>\n",
       "      <td>2899</td>\n",
       "    </tr>\n",
       "  </tbody>\n",
       "</table>\n",
       "</div>"
      ],
      "text/plain": [
       "  File Name Instance Upper Bound Initial solution Makespan\n",
       "0  tai20_10        0        1582             1769     1749\n",
       "1  tai20_20        0        2297             2391     2380\n",
       "2   tai20_5        0        1278             1358     1358\n",
       "3  tai50_10        0        3025             3513     3480\n",
       "4   tai50_5        0        2724             2899     2899"
      ]
     },
     "execution_count": 98,
     "metadata": {},
     "output_type": "execute_result"
    }
   ],
   "source": [
    "results_df4 = pd.DataFrame(columns=[\"File Name\", \"Instance\", \"Upper Bound\", \"Initial solution\", \"Makespan\"])\n",
    "for file_name in file_names:\n",
    "    print(file_name)\n",
    "    taillard = load_taillard(path=\"benchmarks/\"+file_name)\n",
    "    data = np.array(taillard[0]['jobs'])\n",
    "    permutation = np.random.permutation(len(data)).tolist()\n",
    "    permutation , initial_solution = neh_algorithm(data.T)\n",
    "    neighbor, neighbor_cmax, _ = steepest_ascent_hill_climbing(permutation, data.T)\n",
    "    \n",
    "    new_row = pd.DataFrame({\"File Name\": [file_name[:-4]],\n",
    "                                    #\"Generated Solution\": neighbor,\n",
    "                                    \"Instance\": [0],\n",
    "                                    \"Upper Bound\": [taillard[0]['upper_bound']],\n",
    "                                    \"Initial solution\": [int(initial_solution)],\n",
    "                                    \"Makespan\": [int(neighbor_cmax)]})\n",
    "    \n",
    "    results_df4 = pd.concat([results_df4, new_row], ignore_index=True)\n",
    "        \n",
    "results_df4\n",
    "# plot_gantt(np.array(data), neighbor)"
   ]
  },
  {
   "cell_type": "code",
   "execution_count": 99,
   "metadata": {},
   "outputs": [
    {
     "data": {
      "image/png": "[encoded data removed]",
      "text/plain": [
       "<Figure size 1000x600 with 1 Axes>"
      ]
     },
     "metadata": {},
     "output_type": "display_data"
    }
   ],
   "source": [
    "plot_test(results_df4,\"Steepest Hill Climbing\")"
   ]
  },
  {
   "cell_type": "code",
   "execution_count": 59,
   "metadata": {},
   "outputs": [],
   "source": [
    "file_names = list_files_in_folder(folder_path)"
   ]
  },
  {
   "cell_type": "code",
   "execution_count": 100,
   "metadata": {},
   "outputs": [
    {
     "name": "stdout",
     "output_type": "stream",
     "text": [
      "tai20_10.txt\n",
      "tai20_20.txt\n",
      "tai20_5.txt\n",
      "tai50_10.txt\n",
      "tai50_5.txt\n"
     ]
    },
    {
     "data": {
      "text/html": [
       "<div>\n",
       "<style scoped>\n",
       "    .dataframe tbody tr th:only-of-type {\n",
       "        vertical-align: middle;\n",
       "    }\n",
       "\n",
       "    .dataframe tbody tr th {\n",
       "        vertical-align: top;\n",
       "    }\n",
       "\n",
       "    .dataframe thead th {\n",
       "        text-align: right;\n",
       "    }\n",
       "</style>\n",
       "<table border=\"1\" class=\"dataframe\">\n",
       "  <thead>\n",
       "    <tr style=\"text-align: right;\">\n",
       "      <th></th>\n",
       "      <th>File Name</th>\n",
       "      <th>Instance</th>\n",
       "      <th>Upper Bound</th>\n",
       "      <th>Initial solution</th>\n",
       "      <th>Makespan</th>\n",
       "    </tr>\n",
       "  </thead>\n",
       "  <tbody>\n",
       "    <tr>\n",
       "      <th>0</th>\n",
       "      <td>tai20_10</td>\n",
       "      <td>0</td>\n",
       "      <td>1582</td>\n",
       "      <td>1769</td>\n",
       "      <td>1755</td>\n",
       "    </tr>\n",
       "    <tr>\n",
       "      <th>1</th>\n",
       "      <td>tai20_20</td>\n",
       "      <td>0</td>\n",
       "      <td>2297</td>\n",
       "      <td>2391</td>\n",
       "      <td>2355</td>\n",
       "    </tr>\n",
       "    <tr>\n",
       "      <th>2</th>\n",
       "      <td>tai20_5</td>\n",
       "      <td>0</td>\n",
       "      <td>1278</td>\n",
       "      <td>1358</td>\n",
       "      <td>1358</td>\n",
       "    </tr>\n",
       "    <tr>\n",
       "      <th>3</th>\n",
       "      <td>tai50_10</td>\n",
       "      <td>0</td>\n",
       "      <td>3025</td>\n",
       "      <td>3513</td>\n",
       "      <td>3480</td>\n",
       "    </tr>\n",
       "    <tr>\n",
       "      <th>4</th>\n",
       "      <td>tai50_5</td>\n",
       "      <td>0</td>\n",
       "      <td>2724</td>\n",
       "      <td>2899</td>\n",
       "      <td>2899</td>\n",
       "    </tr>\n",
       "  </tbody>\n",
       "</table>\n",
       "</div>"
      ],
      "text/plain": [
       "  File Name Instance Upper Bound Initial solution Makespan\n",
       "0  tai20_10        0        1582             1769     1755\n",
       "1  tai20_20        0        2297             2391     2355\n",
       "2   tai20_5        0        1278             1358     1358\n",
       "3  tai50_10        0        3025             3513     3480\n",
       "4   tai50_5        0        2724             2899     2899"
      ]
     },
     "execution_count": 100,
     "metadata": {},
     "output_type": "execute_result"
    }
   ],
   "source": [
    "results_df5 = pd.DataFrame(columns=[\"File Name\", \"Instance\", \"Upper Bound\", \"Initial solution\", \"Makespan\"])\n",
    "for file_name in file_names:\n",
    "    print(file_name)\n",
    "    taillard = load_taillard(path=\"benchmarks/\"+file_name)\n",
    "    data = np.array(taillard[0]['jobs'])\n",
    "    permutation = np.random.permutation(len(data)).tolist()\n",
    "    permutation , initial_solution = neh_algorithm(data.T)\n",
    "    neighbor, neighbor_cmax, _ = stochastic_hill_climbing(permutation, data.T , 10000)\n",
    "    \n",
    "    new_row = pd.DataFrame({\"File Name\": [file_name[:-4]],\n",
    "                                    #\"Generated Solution\": neighbor,\n",
    "                                    \"Instance\": [0],\n",
    "                                    \"Upper Bound\": [taillard[0]['upper_bound']],\n",
    "                                    \"Initial solution\": [int(initial_solution)],\n",
    "                                    \"Makespan\": [int(neighbor_cmax)]})\n",
    "    \n",
    "    results_df5 = pd.concat([results_df5, new_row], ignore_index=True)\n",
    "        \n",
    "results_df5\n",
    "# plot_gantt(np.array(data), neighbor)"
   ]
  },
  {
   "cell_type": "code",
   "execution_count": 101,
   "metadata": {},
   "outputs": [
    {
     "data": {
      "image/png": "[encoded data removed]",
      "text/plain": [
       "<Figure size 1000x600 with 1 Axes>"
      ]
     },
     "metadata": {},
     "output_type": "display_data"
    }
   ],
   "source": [
    "plot_test(results_df5,\"Stochastic Hill Climbing\")"
   ]
  },
  {
   "cell_type": "markdown",
   "metadata": {},
   "source": [
    "### Tabu search <a class=\"anchor\" id=\"testTabuSearch\"></a>"
   ]
  },
  {
   "cell_type": "code",
   "execution_count": 78,
   "metadata": {},
   "outputs": [],
   "source": [
    "file_names = list_files_in_folder(folder_path)"
   ]
  },
  {
   "cell_type": "code",
   "execution_count": 79,
   "metadata": {},
   "outputs": [
    {
     "name": "stdout",
     "output_type": "stream",
     "text": [
      "['tai20_10.txt', 'tai20_20.txt', 'tai20_5.txt', 'tai50_10.txt', 'tai50_20.txt', 'tai50_5.txt']\n"
     ]
    }
   ],
   "source": [
    "names_to_remove = [\"tai200_20.txt\" , \"tai200_10.txt\", \"tai100_20.txt\", \"tai100_10.txt\",\"tai100_5.txt\", \"tai500_20.txt\"]\n",
    "\n",
    "file_names = [x for x in file_names if x not in names_to_remove]\n",
    "\n",
    "print(file_names)"
   ]
  },
  {
   "cell_type": "code",
   "execution_count": 102,
   "metadata": {},
   "outputs": [
    {
     "name": "stdout",
     "output_type": "stream",
     "text": [
      "tai20_10.txt\n",
      "tai20_20.txt\n",
      "tai20_5.txt\n",
      "tai50_10.txt\n",
      "tai50_5.txt\n"
     ]
    },
    {
     "data": {
      "text/html": [
       "<div>\n",
       "<style scoped>\n",
       "    .dataframe tbody tr th:only-of-type {\n",
       "        vertical-align: middle;\n",
       "    }\n",
       "\n",
       "    .dataframe tbody tr th {\n",
       "        vertical-align: top;\n",
       "    }\n",
       "\n",
       "    .dataframe thead th {\n",
       "        text-align: right;\n",
       "    }\n",
       "</style>\n",
       "<table border=\"1\" class=\"dataframe\">\n",
       "  <thead>\n",
       "    <tr style=\"text-align: right;\">\n",
       "      <th></th>\n",
       "      <th>File Name</th>\n",
       "      <th>Instance</th>\n",
       "      <th>Upper Bound</th>\n",
       "      <th>Initial solution</th>\n",
       "      <th>Makespan</th>\n",
       "    </tr>\n",
       "  </thead>\n",
       "  <tbody>\n",
       "    <tr>\n",
       "      <th>0</th>\n",
       "      <td>tai20_10</td>\n",
       "      <td>0</td>\n",
       "      <td>1582</td>\n",
       "      <td>1769</td>\n",
       "      <td>1723</td>\n",
       "    </tr>\n",
       "    <tr>\n",
       "      <th>1</th>\n",
       "      <td>tai20_20</td>\n",
       "      <td>0</td>\n",
       "      <td>2297</td>\n",
       "      <td>2391</td>\n",
       "      <td>2355</td>\n",
       "    </tr>\n",
       "    <tr>\n",
       "      <th>2</th>\n",
       "      <td>tai20_5</td>\n",
       "      <td>0</td>\n",
       "      <td>1278</td>\n",
       "      <td>1358</td>\n",
       "      <td>1358</td>\n",
       "    </tr>\n",
       "    <tr>\n",
       "      <th>3</th>\n",
       "      <td>tai50_10</td>\n",
       "      <td>0</td>\n",
       "      <td>3025</td>\n",
       "      <td>3513</td>\n",
       "      <td>3480</td>\n",
       "    </tr>\n",
       "    <tr>\n",
       "      <th>4</th>\n",
       "      <td>tai50_5</td>\n",
       "      <td>0</td>\n",
       "      <td>2724</td>\n",
       "      <td>2899</td>\n",
       "      <td>2899</td>\n",
       "    </tr>\n",
       "  </tbody>\n",
       "</table>\n",
       "</div>"
      ],
      "text/plain": [
       "  File Name Instance Upper Bound Initial solution Makespan\n",
       "0  tai20_10        0        1582             1769     1723\n",
       "1  tai20_20        0        2297             2391     2355\n",
       "2   tai20_5        0        1278             1358     1358\n",
       "3  tai50_10        0        3025             3513     3480\n",
       "4   tai50_5        0        2724             2899     2899"
      ]
     },
     "execution_count": 102,
     "metadata": {},
     "output_type": "execute_result"
    }
   ],
   "source": [
    "results_df6 = pd.DataFrame(columns=[\"File Name\", \"Instance\", \"Upper Bound\", \"Initial solution\", \"Makespan\"])\n",
    "for file_name in file_names:\n",
    "    print(file_name)\n",
    "    taillard = load_taillard(path=\"benchmarks/\"+file_name)\n",
    "    data = np.array(taillard[0]['jobs'])\n",
    "    permutation = np.random.permutation(len(data)).tolist()\n",
    "    permutation , initial_solution = neh_algorithm(data.T)\n",
    "    neighbor, neighbor_cmax = tabu_search(permutation, data.T)\n",
    "    \n",
    "    new_row = pd.DataFrame({\"File Name\": [file_name[:-4]],\n",
    "                                    #\"Generated Solution\": neighbor,\n",
    "                                    \"Instance\": [0],\n",
    "                                    \"Upper Bound\": [taillard[0]['upper_bound']],\n",
    "                                    \"Initial solution\": [int(initial_solution)],\n",
    "                                    \"Makespan\": [int(neighbor_cmax)]})\n",
    "    \n",
    "    results_df6 = pd.concat([results_df6, new_row], ignore_index=True)\n",
    "        \n",
    "results_df6\n",
    "# plot_gantt(np.array(data), neighbor)"
   ]
  },
  {
   "cell_type": "code",
   "execution_count": 103,
   "metadata": {},
   "outputs": [
    {
     "data": {
      "image/png": "[encoded data removed]",
      "text/plain": [
       "<Figure size 1000x600 with 1 Axes>"
      ]
     },
     "metadata": {},
     "output_type": "display_data"
    }
   ],
   "source": [
    "plot_test(results_df6,\"Tabu search\")"
   ]
  },
  {
   "cell_type": "markdown",
   "metadata": {},
   "source": [
    "### Recuit simulé <a class=\"anchor\" id=\"testRecuitSimulé\"></a>"
   ]
  },
  {
   "cell_type": "code",
   "execution_count": 86,
   "metadata": {},
   "outputs": [],
   "source": [
    "file_names = list_files_in_folder(folder_path)"
   ]
  },
  {
   "cell_type": "code",
   "execution_count": 87,
   "metadata": {},
   "outputs": [
    {
     "name": "stdout",
     "output_type": "stream",
     "text": [
      "['tai20_10.txt', 'tai20_20.txt', 'tai20_5.txt', 'tai50_10.txt', 'tai50_5.txt']\n"
     ]
    }
   ],
   "source": [
    "names_to_remove = [\"tai200_20.txt\" , \"tai200_10.txt\", \"tai100_20.txt\", \"tai100_10.txt\",\"tai100_5.txt\", \"tai500_20.txt\", \"tai50_20.txt\"]\n",
    "\n",
    "file_names = [x for x in file_names if x not in names_to_remove]\n",
    "\n",
    "print(file_names)"
   ]
  },
  {
   "cell_type": "code",
   "execution_count": 104,
   "metadata": {},
   "outputs": [
    {
     "name": "stdout",
     "output_type": "stream",
     "text": [
      "tai20_10.txt\n",
      "tai20_20.txt\n",
      "tai20_5.txt\n",
      "tai50_10.txt\n",
      "tai50_5.txt\n"
     ]
    },
    {
     "data": {
      "text/html": [
       "<div>\n",
       "<style scoped>\n",
       "    .dataframe tbody tr th:only-of-type {\n",
       "        vertical-align: middle;\n",
       "    }\n",
       "\n",
       "    .dataframe tbody tr th {\n",
       "        vertical-align: top;\n",
       "    }\n",
       "\n",
       "    .dataframe thead th {\n",
       "        text-align: right;\n",
       "    }\n",
       "</style>\n",
       "<table border=\"1\" class=\"dataframe\">\n",
       "  <thead>\n",
       "    <tr style=\"text-align: right;\">\n",
       "      <th></th>\n",
       "      <th>File Name</th>\n",
       "      <th>Instance</th>\n",
       "      <th>Upper Bound</th>\n",
       "      <th>Initial solution</th>\n",
       "      <th>Makespan</th>\n",
       "    </tr>\n",
       "  </thead>\n",
       "  <tbody>\n",
       "    <tr>\n",
       "      <th>0</th>\n",
       "      <td>tai20_10</td>\n",
       "      <td>0</td>\n",
       "      <td>1582</td>\n",
       "      <td>1769</td>\n",
       "      <td>1723</td>\n",
       "    </tr>\n",
       "    <tr>\n",
       "      <th>1</th>\n",
       "      <td>tai20_20</td>\n",
       "      <td>0</td>\n",
       "      <td>2297</td>\n",
       "      <td>2391</td>\n",
       "      <td>2355</td>\n",
       "    </tr>\n",
       "    <tr>\n",
       "      <th>2</th>\n",
       "      <td>tai20_5</td>\n",
       "      <td>0</td>\n",
       "      <td>1278</td>\n",
       "      <td>1358</td>\n",
       "      <td>1358</td>\n",
       "    </tr>\n",
       "    <tr>\n",
       "      <th>3</th>\n",
       "      <td>tai50_10</td>\n",
       "      <td>0</td>\n",
       "      <td>3025</td>\n",
       "      <td>3513</td>\n",
       "      <td>3480</td>\n",
       "    </tr>\n",
       "    <tr>\n",
       "      <th>4</th>\n",
       "      <td>tai50_5</td>\n",
       "      <td>0</td>\n",
       "      <td>2724</td>\n",
       "      <td>2899</td>\n",
       "      <td>2899</td>\n",
       "    </tr>\n",
       "  </tbody>\n",
       "</table>\n",
       "</div>"
      ],
      "text/plain": [
       "  File Name Instance Upper Bound Initial solution Makespan\n",
       "0  tai20_10        0        1582             1769     1723\n",
       "1  tai20_20        0        2297             2391     2355\n",
       "2   tai20_5        0        1278             1358     1358\n",
       "3  tai50_10        0        3025             3513     3480\n",
       "4   tai50_5        0        2724             2899     2899"
      ]
     },
     "execution_count": 104,
     "metadata": {},
     "output_type": "execute_result"
    }
   ],
   "source": [
    "results_df7 = pd.DataFrame(columns=[\"File Name\", \"Instance\", \"Upper Bound\", \"Initial solution\", \"Makespan\"])\n",
    "for file_name in file_names:\n",
    "    print(file_name)\n",
    "    taillard = load_taillard(path=\"benchmarks/\"+file_name)\n",
    "    data = np.array(taillard[0]['jobs'])\n",
    "    permutation , initial_solution = neh_algorithm(data.T)    \n",
    "    neighbor, neighbor_cmax = tabu_search(permutation, data.T)\n",
    "    \n",
    "    new_row = pd.DataFrame({\"File Name\": [file_name[:-4]],\n",
    "                                    #\"Generated Solution\": neighbor,\n",
    "                                    \"Instance\": [0],\n",
    "                                    \"Upper Bound\": [taillard[0]['upper_bound']],\n",
    "                                    \"Initial solution\": [int(initial_solution)],\n",
    "                                    \"Makespan\": [int(neighbor_cmax)]})\n",
    "    \n",
    "    results_df7 = pd.concat([results_df7, new_row], ignore_index=True)\n",
    "        \n",
    "results_df7\n",
    "# plot_gantt(np.array(data), neighbor)"
   ]
  },
  {
   "cell_type": "code",
   "execution_count": 105,
   "metadata": {},
   "outputs": [
    {
     "data": {
      "image/png": "[encoded data removed]",
      "text/plain": [
       "<Figure size 1000x600 with 1 Axes>"
      ]
     },
     "metadata": {},
     "output_type": "display_data"
    }
   ],
   "source": [
    "plot_test(results_df7,\"Recuit simulé\")"
   ]
  },
  {
   "cell_type": "markdown",
   "metadata": {},
   "source": [
    "### Compariason"
   ]
  },
  {
   "cell_type": "code",
   "execution_count": 119,
   "metadata": {},
   "outputs": [
    {
     "data": {
      "image/png": "[encoded data removed]",
      "text/plain": [
       "<Figure size 1200x600 with 1 Axes>"
      ]
     },
     "metadata": {},
     "output_type": "display_data"
    }
   ],
   "source": [
    "# Combine all dataframes into a single dataframe\n",
    "result_dfs = [results_df, results_df2, results_df3, results_df4, results_df5, results_df6, results_df7]\n",
    "combined_df = pd.concat(result_dfs)\n",
    "\n",
    "# Group the combined dataframe by 'File Name' and aggregate the makespan values for each algorithm\n",
    "grouped_df = combined_df.groupby('File Name')['Makespan'].apply(list).reset_index()\n",
    "\n",
    "# Define algorithm names\n",
    "algorithm_names = [\"random walk\", \"VNS\", \"Tabu search\", \"Hill climbing\", \"Recuit simulé\"]  # Add more as needed\n",
    "\n",
    "# Plotting\n",
    "plt.figure(figsize=(12, 6))\n",
    "\n",
    "# Loop through each algorithm\n",
    "bar_width = 0.1  # Adjust bar width\n",
    "dataset_space = 0.3  # Adjust space between datasets\n",
    "num_datasets = len(grouped_df)\n",
    "for i, algorithm in enumerate(algorithm_names):\n",
    "    bar_positions = np.arange(num_datasets) * (len(algorithm_names) * bar_width + dataset_space) + i * bar_width\n",
    "    plt.bar(bar_positions, grouped_df['Makespan'].apply(lambda x: x[i]), width=bar_width, label=algorithm)\n",
    "\n",
    "plt.xlabel('Dataset (Upper Bound)')\n",
    "plt.ylabel('Makespan')\n",
    "plt.title('Makespan Comparison for Different Datasets et Algorithms')\n",
    "\n",
    "# Modify x-axis labels to include upper bound\n",
    "x_labels = [f\"{file_name} [{upper_bound}]\" for file_name, upper_bound in zip(grouped_df['File Name'], combined_df.groupby('File Name')['Upper Bound'].mean())]\n",
    "plt.xticks(np.arange(num_datasets) * (len(algorithm_names) * bar_width + dataset_space) + ((num_datasets - 1) * bar_width) / 2, x_labels)\n",
    "\n",
    "plt.legend()\n",
    "plt.tight_layout()\n",
    "plt.show()"
   ]
  }
 ],
 "metadata": {
  "colab": {
   "provenance": []
  },
  "kernelspec": {
   "display_name": "Python 3 (ipykernel)",
   "language": "python",
   "name": "python3"
  },
  "language_info": {
   "codemirror_mode": {
    "name": "ipython",
    "version": 3
   },
   "file_extension": ".py",
   "mimetype": "text/x-python",
   "name": "python",
   "nbconvert_exporter": "python",
   "pygments_lexer": "ipython3",
   "version": "3.11.5"
  }
 },
 "nbformat": 4,
 "nbformat_minor": 1
}
