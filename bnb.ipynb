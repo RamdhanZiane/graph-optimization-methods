{
 "cells": [
  {
   "cell_type": "code",
   "execution_count": 26,
   "metadata": {},
   "outputs": [],
   "source": [
    "import numpy as np\n",
    "import time"
   ]
  },
  {
   "cell_type": "code",
   "execution_count": 7,
   "metadata": {},
   "outputs": [],
   "source": [
    "import json\n",
    "def load_taillard():\n",
    "    path = 'datasets/taillard.txt'\n",
    "    with open(path) as f:\n",
    "        n = int(f.readline())\n",
    "        tests = []\n",
    "        tests_json = []\n",
    "        for _ in range(n):\n",
    "            test = {}\n",
    "            next(f)\n",
    "            nb_jobs, nb_machines, seed, ub, lb = [int(i) for i in f.readline().strip().split(\" \") if i != \"\"]\n",
    "            test[\"nb_jobs\"] = nb_jobs\n",
    "            test[\"nb_machines\"] = nb_machines\n",
    "            test[\"seed\"] = seed\n",
    "            test[\"upper_bound\"] = ub\n",
    "            test[\"lower_bound\"] = lb\n",
    "            next(f)\n",
    "            jobs = []\n",
    "            for _ in range(nb_machines):\n",
    "                process_times = [int(i) for i in f.readline().strip().split(\" \") if i != \"\"]\n",
    "                jobs.append(process_times)\n",
    "            test[\"jobs\"] = jobs\n",
    "            tests_json.append(test)\n",
    "            tests.append((nb_jobs, nb_machines, seed, ub, lb, list(zip(*jobs))))\n",
    "    with open('datasets/taillard.json', 'w') as f:\n",
    "        json.dump(tests_json, f)\n",
    "    return tests\n",
    "_ = load_taillard()"
   ]
  },
  {
   "cell_type": "code",
   "execution_count": 28,
   "metadata": {},
   "outputs": [],
   "source": [
    "def evaluate_sequence(sequence, processing_times):\n",
    "    _, num_machines = processing_times.shape\n",
    "    num_jobs = len(sequence)\n",
    "    completion_times = np.zeros((num_jobs, num_machines))\n",
    "    \n",
    "    # Calculate the completion times for the first machine\n",
    "    completion_times[0][0] = processing_times[sequence[0]][0]\n",
    "    for i in range(1, num_jobs):\n",
    "        completion_times[i][0] = completion_times[i-1][0] + processing_times[sequence[i]][0]\n",
    "    \n",
    "    # Calculate the completion times for the remaining machines\n",
    "    for j in range(1, num_machines):\n",
    "        completion_times[0][j] = completion_times[0][j-1] + processing_times[sequence[0]][j]\n",
    "        for i in range(1, num_jobs):\n",
    "            completion_times[i][j] = max(completion_times[i-1][j], completion_times[i][j-1]) + processing_times[sequence[i]][j]\n",
    "    \n",
    "    # Return the total completion time, which is the completion time of the last job in the last machine\n",
    "    return completion_times[num_jobs-1][num_machines-1]"
   ]
  },
  {
   "cell_type": "code",
   "execution_count": 29,
   "metadata": {},
   "outputs": [],
   "source": [
    "# Define the Node structure of the seach tree that we will be using\n",
    "class Node:\n",
    "    def __init__(self, jobs, remaining_jobs, parent=None, lower_bound=1e100):\n",
    "        self.jobs = jobs\n",
    "        self.remaining_jobs = remaining_jobs\n",
    "        self.parent = parent\n",
    "        self.lower_bound = lower_bound\n",
    "    def __str__(self):\n",
    "        return f\"Node(jobs={self.jobs}, remaining_jobs={self.remaining_jobs}, lower_bound={self.lower_bound})\""
   ]
  },
  {
   "cell_type": "code",
   "execution_count": 64,
   "metadata": {},
   "outputs": [],
   "source": [
    "def branch_and_bound(processing_times, initial_solution, initial_cost, lower_bound=0, upper_bound=None):\n",
    "    jobs, machines = processing_times.shape\n",
    "    # Initialize the nodes list to the `root_node`\n",
    "    root_node = Node([], set(range(jobs)))\n",
    "    best_solution = initial_solution.copy()\n",
    "    best_solution_cost = initial_cost\n",
    "    nodes = [root_node]\n",
    "    i = 1\n",
    "    while nodes:\n",
    "        node = nodes.pop()\n",
    "        # Explore neighbours of the node `node`\n",
    "        for job in node.remaining_jobs:\n",
    "            child_jobs = node.jobs + [job]\n",
    "            child_remaining_jobs = node.remaining_jobs - {job}\n",
    "            child_lower_bound = evaluate_sequence(child_jobs, processing_times)\n",
    "            # If the child node is a leaf node (i.e., all jobs have been assigned) then calculate its cost\n",
    "            if not child_remaining_jobs:\n",
    "                if child_lower_bound < best_solution_cost:\n",
    "                    best_solution = child_jobs\n",
    "                    best_solution_cost = child_lower_bound\n",
    "                    continue\n",
    "            # If the child node is not a leaf then calculate its lower bound and compare it with current `best_solution_cost`\n",
    "            if child_lower_bound < best_solution_cost:\n",
    "                child_node = Node(child_jobs, child_remaining_jobs, parent=node, lower_bound=child_lower_bound)\n",
    "                nodes.append(child_node)\n",
    "            \n",
    "        i += 1\n",
    "        if i % 10000 == 0:\n",
    "            print(i, best_solution, best_solution_cost, 'Stack length', len(nodes))\n",
    "    return best_solution, best_solution_cost, i"
   ]
  },
  {
   "cell_type": "code",
   "execution_count": 65,
   "metadata": {},
   "outputs": [],
   "source": [
    "def branch_and_bound_pure(processing_times,initial_solution, initial_cost):\n",
    "    jobs, machines = processing_times.shape\n",
    "    # Initialize the nodes list to the `root_node`\n",
    "    root_node = Node([], set(range(jobs)))\n",
    "    best_solution = initial_solution.copy()\n",
    "    best_solution_cost = initial_cost\n",
    "    nodes = [root_node]\n",
    "    i = 1\n",
    "    while nodes:\n",
    "        node = nodes.pop()\n",
    "        # Explore neighbours of the node `node`\n",
    "        for job in node.remaining_jobs:\n",
    "            child_jobs = node.jobs + [job]\n",
    "            child_remaining_jobs = node.remaining_jobs - {job}\n",
    "            # If the child node is a leaf node (i.e., all jobs have been assigned) then calculate its cost\n",
    "            if not child_remaining_jobs:\n",
    "                child_lower_bound = evaluate_sequence(child_jobs, processing_times)\n",
    "                if child_lower_bound < best_solution_cost:\n",
    "                    best_solution = child_jobs\n",
    "                    best_solution_cost = child_lower_bound   \n",
    "                    continue\n",
    "            else:\n",
    "                # If the child node is not a leaf then calculate its lower bound and compare it with current `best_solution_cost`\n",
    "                child_lower_bound = evaluate_sequence(child_jobs, processing_times)\n",
    "                child_node = Node(child_jobs, child_remaining_jobs, parent=node, lower_bound=child_lower_bound)\n",
    "                nodes.append(child_node)\n",
    "        i += 1\n",
    "        if i % 1000 == 0:\n",
    "            print(i, best_solution, len(nodes))\n",
    "    return best_solution, best_solution_cost, i"
   ]
  },
  {
   "cell_type": "code",
   "execution_count": 51,
   "metadata": {},
   "outputs": [],
   "source": [
    "data = load_taillard()\n",
    "nb_jobs, nb_machines, seed, ub, lb, processing_times = data[0]\n",
    "instance = np.array(processing_times)\n",
    "initial_solution = np.array(range(nb_jobs))\n",
    "\n",
    "initial_cost = evaluate_sequence(initial_solution, instance)\n"
   ]
  },
  {
   "cell_type": "code",
   "execution_count": null,
   "metadata": {},
   "outputs": [],
   "source": [
    "start_time = time.time()\n",
    "best_solution, best_cost, i = branch_and_bound_pure(instance, initial_solution, initial_cost)\n",
    "elapsed_time = time.time() - start_time\n",
    "\n",
    "print(f'Results of Branch & Bound pure:')\n",
    "print(f'Best sequence is {best_solution} with a makespan of {best_cost}.')\n",
    "print(f'No. Nodes visited is {i}.')\n",
    "print(f'Elapsed time of {elapsed_time} seconds.')"
   ]
  },
  {
   "cell_type": "code",
   "execution_count": null,
   "metadata": {},
   "outputs": [],
   "source": [
    "start_time = time.time()\n",
    "best_solution, best_cost, i = branch_and_bound(instance, initial_solution, initial_cost)\n",
    "elapsed_time = time.time() - start_time\n",
    "\n",
    "print(f'Results of Branch & Bound:')\n",
    "print(f'Best sequence is {best_solution} with a makespan of {best_cost}.')\n",
    "print(f'No. Nodes visited is {i}.')\n",
    "print(f'Elapsed time of {elapsed_time} seconds.')"
   ]
  }
 ],
 "metadata": {
  "kernelspec": {
   "display_name": "Python 3",
   "language": "python",
   "name": "python3"
  },
  "language_info": {
   "codemirror_mode": {
    "name": "ipython",
    "version": 3
   },
   "file_extension": ".py",
   "mimetype": "text/x-python",
   "name": "python",
   "nbconvert_exporter": "python",
   "pygments_lexer": "ipython3",
   "version": "3.9.0"
  }
 },
 "nbformat": 4,
 "nbformat_minor": 2
}
